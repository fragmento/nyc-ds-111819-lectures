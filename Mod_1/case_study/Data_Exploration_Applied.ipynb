{
 "cells": [
  {
   "cell_type": "markdown",
   "metadata": {},
   "source": [
    "## Case Study Flatiron health insurance\n",
    "### Importing all libraries \n"
   ]
  },
  {
   "cell_type": "code",
   "execution_count": 1,
   "metadata": {},
   "outputs": [],
   "source": [
    "import seaborn as sns\n",
    "import pandas as pd\n",
    "import matplotlib.pyplot as plt\n",
    "import numpy as np\n",
    "%matplotlib inline\n",
    "pd.set_option('display.max_columns', 1000) # see all columns\n",
    "pd.set_option('display.max_rows', 1000)"
   ]
  },
  {
   "cell_type": "markdown",
   "metadata": {},
   "source": [
    "### Loading the data and exporing "
   ]
  },
  {
   "cell_type": "code",
   "execution_count": 2,
   "metadata": {},
   "outputs": [
    {
     "name": "stderr",
     "output_type": "stream",
     "text": [
      "/Users/andreschaves/opt/anaconda3/lib/python3.7/site-packages/IPython/core/interactiveshell.py:3058: DtypeWarning: Columns (171) have mixed types. Specify dtype option on import or set low_memory=False.\n",
      "  interactivity=interactivity, compiler=compiler, result=result)\n"
     ]
    }
   ],
   "source": [
    "#Load our dataframe account for the index columns\n",
    "#and make \n",
    "df = pd.read_csv('case_study.csv', index_col=0)"
   ]
  },
  {
   "cell_type": "code",
   "execution_count": 3,
   "metadata": {},
   "outputs": [
    {
     "data": {
      "text/plain": [
       "(34545, 358)"
      ]
     },
     "execution_count": 3,
     "metadata": {},
     "output_type": "execute_result"
    }
   ],
   "source": [
    "# Quickly check to see the size of our DF, both rows and columns\n",
    "df.shape"
   ]
  },
  {
   "cell_type": "code",
   "execution_count": 149,
   "metadata": {},
   "outputs": [],
   "source": [
    "list_conditions = ['CHOLMED1', 'CVDCRHD4', 'CVDINFR4', 'CVDSTRK3',\n",
    "                   'ASTHMA3', 'ASTHNOW', 'CHCSCNCR', 'CHCOCNCR',\n",
    "                   'CHCCOPD1','HAVARTH3', 'DIABETE3']\n",
    "def make_chronic(dlist):\n",
    "    for condition in dlist:\n",
    "        if df[condition] == 1:\n",
    "            return 1\n",
    "df['CRONICALY_ILL'].apply()"
   ]
  },
  {
   "cell_type": "code",
   "execution_count": 148,
   "metadata": {},
   "outputs": [
    {
     "data": {
      "text/plain": [
       "1.0    19752\n",
       "Name: CRONICALY_ILL, dtype: int64"
      ]
     },
     "execution_count": 148,
     "metadata": {},
     "output_type": "execute_result"
    }
   ],
   "source": [
    "df['CRONICALY_ILL'].value_counts()"
   ]
  },
  {
   "cell_type": "code",
   "execution_count": null,
   "metadata": {},
   "outputs": [],
   "source": []
  },
  {
   "cell_type": "code",
   "execution_count": 88,
   "metadata": {},
   "outputs": [],
   "source": [
    "new_df = df[['SEX','PHYSHLTH','_STATE','SMOKE100','SMOKDAY2','_SMOKER3','ALCDAY5','_AGE_G']]"
   ]
  },
  {
   "cell_type": "code",
   "execution_count": 89,
   "metadata": {
    "scrolled": true
   },
   "outputs": [
    {
     "data": {
      "text/html": [
       "<div>\n",
       "<style scoped>\n",
       "    .dataframe tbody tr th:only-of-type {\n",
       "        vertical-align: middle;\n",
       "    }\n",
       "\n",
       "    .dataframe tbody tr th {\n",
       "        vertical-align: top;\n",
       "    }\n",
       "\n",
       "    .dataframe thead th {\n",
       "        text-align: right;\n",
       "    }\n",
       "</style>\n",
       "<table border=\"1\" class=\"dataframe\">\n",
       "  <thead>\n",
       "    <tr style=\"text-align: right;\">\n",
       "      <th></th>\n",
       "      <th>SEX</th>\n",
       "      <th>PHYSHLTH</th>\n",
       "      <th>_STATE</th>\n",
       "      <th>SMOKE100</th>\n",
       "      <th>SMOKDAY2</th>\n",
       "      <th>_SMOKER3</th>\n",
       "      <th>ALCDAY5</th>\n",
       "      <th>_AGE_G</th>\n",
       "    </tr>\n",
       "  </thead>\n",
       "  <tbody>\n",
       "    <tr>\n",
       "      <td>49938</td>\n",
       "      <td>2.0</td>\n",
       "      <td>0.0</td>\n",
       "      <td>9.0</td>\n",
       "      <td>2.0</td>\n",
       "      <td>NaN</td>\n",
       "      <td>4.0</td>\n",
       "      <td>101.0</td>\n",
       "      <td>2.0</td>\n",
       "    </tr>\n",
       "    <tr>\n",
       "      <td>49939</td>\n",
       "      <td>1.0</td>\n",
       "      <td>0.0</td>\n",
       "      <td>9.0</td>\n",
       "      <td>2.0</td>\n",
       "      <td>NaN</td>\n",
       "      <td>4.0</td>\n",
       "      <td>230.0</td>\n",
       "      <td>4.0</td>\n",
       "    </tr>\n",
       "    <tr>\n",
       "      <td>49940</td>\n",
       "      <td>2.0</td>\n",
       "      <td>2.0</td>\n",
       "      <td>9.0</td>\n",
       "      <td>2.0</td>\n",
       "      <td>NaN</td>\n",
       "      <td>4.0</td>\n",
       "      <td>0.0</td>\n",
       "      <td>1.0</td>\n",
       "    </tr>\n",
       "    <tr>\n",
       "      <td>49941</td>\n",
       "      <td>2.0</td>\n",
       "      <td>0.0</td>\n",
       "      <td>9.0</td>\n",
       "      <td>2.0</td>\n",
       "      <td>NaN</td>\n",
       "      <td>4.0</td>\n",
       "      <td>103.0</td>\n",
       "      <td>5.0</td>\n",
       "    </tr>\n",
       "    <tr>\n",
       "      <td>49942</td>\n",
       "      <td>2.0</td>\n",
       "      <td>0.0</td>\n",
       "      <td>9.0</td>\n",
       "      <td>1.0</td>\n",
       "      <td>3.0</td>\n",
       "      <td>3.0</td>\n",
       "      <td>101.0</td>\n",
       "      <td>5.0</td>\n",
       "    </tr>\n",
       "  </tbody>\n",
       "</table>\n",
       "</div>"
      ],
      "text/plain": [
       "       SEX  PHYSHLTH  _STATE  SMOKE100  SMOKDAY2  _SMOKER3  ALCDAY5  _AGE_G\n",
       "49938  2.0       0.0     9.0       2.0       NaN       4.0    101.0     2.0\n",
       "49939  1.0       0.0     9.0       2.0       NaN       4.0    230.0     4.0\n",
       "49940  2.0       2.0     9.0       2.0       NaN       4.0      0.0     1.0\n",
       "49941  2.0       0.0     9.0       2.0       NaN       4.0    103.0     5.0\n",
       "49942  2.0       0.0     9.0       1.0       3.0       3.0    101.0     5.0"
      ]
     },
     "execution_count": 89,
     "metadata": {},
     "output_type": "execute_result"
    }
   ],
   "source": [
    "new_df.head(5)"
   ]
  },
  {
   "cell_type": "markdown",
   "metadata": {},
   "source": [
    "## Subset your dataframe to only include the states in the tri-state area (NJ, CT, NY)"
   ]
  },
  {
   "cell_type": "code",
   "execution_count": 90,
   "metadata": {},
   "outputs": [
    {
     "data": {
      "text/plain": [
       "49938    0.0\n",
       "49939    0.0\n",
       "49940    2.0\n",
       "49941    0.0\n",
       "49942    0.0\n",
       "Name: PHYSHLTH, dtype: float64"
      ]
     },
     "execution_count": 90,
     "metadata": {},
     "output_type": "execute_result"
    }
   ],
   "source": [
    "df['PHYSHLTH'].head()\n"
   ]
  },
  {
   "cell_type": "code",
   "execution_count": 91,
   "metadata": {},
   "outputs": [
    {
     "data": {
      "text/plain": [
       "0.0     21296\n",
       "30.0     2438\n",
       "2.0      1993\n",
       "1.0      1538\n",
       "3.0      1187\n",
       "5.0      1092\n",
       "10.0      751\n",
       "7.0       641\n",
       "15.0      640\n",
       "4.0       622\n",
       "20.0      402\n",
       "14.0      326\n",
       "6.0       187\n",
       "25.0      159\n",
       "8.0        99\n",
       "21.0       70\n",
       "12.0       69\n",
       "28.0       57\n",
       "29.0       35\n",
       "27.0       22\n",
       "18.0       19\n",
       "16.0       16\n",
       "17.0       15\n",
       "9.0        15\n",
       "22.0       12\n",
       "13.0       10\n",
       "19.0       10\n",
       "11.0        8\n",
       "24.0        7\n",
       "26.0        7\n",
       "23.0        4\n",
       "Name: PHYSHLTH, dtype: int64"
      ]
     },
     "execution_count": 91,
     "metadata": {},
     "output_type": "execute_result"
    }
   ],
   "source": [
    "df['PHYSHLTH'].value_counts()"
   ]
  },
  {
   "cell_type": "markdown",
   "metadata": {},
   "source": [
    "Now check to see how large our subset df."
   ]
  },
  {
   "cell_type": "code",
   "execution_count": 92,
   "metadata": {},
   "outputs": [],
   "source": [
    "# your code here"
   ]
  },
  {
   "cell_type": "markdown",
   "metadata": {},
   "source": [
    "**PHYSHLTH** is the column we are interested in for this analysis, so let's start to investigate the column. Since we have a data cookbook, a.k.a. data dictionary) we want to start there before looking at the code. "
   ]
  },
  {
   "cell_type": "code",
   "execution_count": 93,
   "metadata": {},
   "outputs": [
    {
     "data": {
      "text/plain": [
       "count    33747.000000\n",
       "mean         4.085341\n",
       "std          8.513293\n",
       "min          0.000000\n",
       "25%          0.000000\n",
       "50%          0.000000\n",
       "75%          3.000000\n",
       "max         30.000000\n",
       "Name: PHYSHLTH, dtype: float64"
      ]
     },
     "execution_count": 93,
     "metadata": {},
     "output_type": "execute_result"
    }
   ],
   "source": [
    "df['PHYSHLTH'].describe()"
   ]
  },
  {
   "cell_type": "markdown",
   "metadata": {},
   "source": [
    "## 1. Handle the non-normal values\n",
    "\n",
    "As you can see from the data dictionary, there are a number of responses that are coded with values that could throw off our descriptive statistics.  Let's clean up by mapping the responses to a more appropriate value, and handling any missing values.  "
   ]
  },
  {
   "cell_type": "code",
   "execution_count": 94,
   "metadata": {},
   "outputs": [
    {
     "name": "stderr",
     "output_type": "stream",
     "text": [
      "/Users/andreschaves/opt/anaconda3/lib/python3.7/site-packages/pandas/core/generic.py:6786: SettingWithCopyWarning: \n",
      "A value is trying to be set on a copy of a slice from a DataFrame\n",
      "\n",
      "See the caveats in the documentation: http://pandas.pydata.org/pandas-docs/stable/user_guide/indexing.html#returning-a-view-versus-a-copy\n",
      "  self._update_inplace(new_data)\n",
      "/Users/andreschaves/opt/anaconda3/lib/python3.7/site-packages/ipykernel_launcher.py:20: SettingWithCopyWarning: \n",
      "A value is trying to be set on a copy of a slice from a DataFrame\n",
      "\n",
      "See the caveats in the documentation: http://pandas.pydata.org/pandas-docs/stable/user_guide/indexing.html#returning-a-view-versus-a-copy\n"
     ]
    }
   ],
   "source": [
    "# create dic with value map\n",
    "# use dic with .replace method\n",
    "\n",
    "health_new = {88:0,\n",
    "             77: np.nan,\n",
    "             99: np.nan}\n",
    "\n",
    "sex_new = {1: 'Male',\n",
    "          2: 'Female'}\n",
    "\n",
    "new_state = {9:'Conneticut',\n",
    "             34:'New Jersey',\n",
    "             36:'New York'}\n",
    "\n",
    "df['PHYSHLTH'].replace(health_new, inplace = True)\n",
    "new_df['PHYSHLTH'].replace(health_new, inplace = True)\n",
    "\n",
    "\n",
    "df.dropna(subset=['PHYSHLTH'], inplace=True)\n",
    "new_df.dropna(subset=['PHYSHLTH'], inplace=True)\n",
    "\n",
    "new_df_sex = new_df[new_df['SEX']!=9]\n",
    "\n",
    "new_df_sex['SEX'].replace(sex_new, inplace=True)\n",
    "new_df_sex['_STATE'].replace(new_state, inplace=True)\n",
    "\n",
    "new_df['PHYSHLTH'].describe()\n",
    "\n",
    "new_df.pivot_table(index='_STATE', columns = 'PHYSHLTH')\n",
    "\n",
    "df['PHYSHLTH'].value_counts(normalize=True)\n",
    "\n",
    "df.dropna(subset=['PHYSHLTH'], inplace=True)"
   ]
  },
  {
   "cell_type": "code",
   "execution_count": 95,
   "metadata": {},
   "outputs": [
    {
     "data": {
      "text/plain": [
       "(33747, 358)"
      ]
     },
     "execution_count": 95,
     "metadata": {},
     "output_type": "execute_result"
    }
   ],
   "source": [
    "df.shape"
   ]
  },
  {
   "cell_type": "code",
   "execution_count": 96,
   "metadata": {},
   "outputs": [
    {
     "data": {
      "text/plain": [
       "count    33747.000000\n",
       "mean         4.085341\n",
       "std          8.513293\n",
       "min          0.000000\n",
       "25%          0.000000\n",
       "50%          0.000000\n",
       "75%          3.000000\n",
       "max         30.000000\n",
       "Name: PHYSHLTH, dtype: float64"
      ]
     },
     "execution_count": 96,
     "metadata": {},
     "output_type": "execute_result"
    }
   ],
   "source": [
    "df['PHYSHLTH'].describe()"
   ]
  },
  {
   "cell_type": "code",
   "execution_count": 97,
   "metadata": {},
   "outputs": [
    {
     "name": "stderr",
     "output_type": "stream",
     "text": [
      "/Users/andreschaves/opt/anaconda3/lib/python3.7/site-packages/ipykernel_launcher.py:11: UserWarning: Boolean Series key will be reindexed to match DataFrame index.\n",
      "  # This is added back by InteractiveShellApp.init_path()\n",
      "/Users/andreschaves/opt/anaconda3/lib/python3.7/site-packages/ipykernel_launcher.py:13: UserWarning: Boolean Series key will be reindexed to match DataFrame index.\n",
      "  del sys.path[0]\n"
     ]
    }
   ],
   "source": [
    "#separate by sex \n",
    "\n",
    "dfemale = new_df_sex[new_df_sex['SEX'] == 'Female']\n",
    "\n",
    "dmale = new_df_sex[new_df_sex['SEX'] == 'Male']\n",
    "\n",
    "#take out zero sick days\n",
    "\n",
    "no_sick_day = new_df_sex[new_df_sex['PHYSHLTH'] != 0]\n",
    "\n",
    "dmale_no_sick = dmale[new_df_sex['PHYSHLTH'] != 0]\n",
    "\n",
    "dfemale_no_sick = dfemale[new_df_sex['PHYSHLTH'] != 0]"
   ]
  },
  {
   "cell_type": "code",
   "execution_count": 98,
   "metadata": {},
   "outputs": [
    {
     "data": {
      "text/plain": [
       "count    12444.000000\n",
       "mean        11.071279\n",
       "std         10.910660\n",
       "min          1.000000\n",
       "25%          2.000000\n",
       "50%          5.000000\n",
       "75%         20.000000\n",
       "max         30.000000\n",
       "Name: PHYSHLTH, dtype: float64"
      ]
     },
     "execution_count": 98,
     "metadata": {},
     "output_type": "execute_result"
    }
   ],
   "source": [
    "no_sick_day['PHYSHLTH'].describe()\n"
   ]
  },
  {
   "cell_type": "code",
   "execution_count": 99,
   "metadata": {
    "scrolled": true
   },
   "outputs": [
    {
     "data": {
      "text/plain": [
       "SEX         14818\n",
       "PHYSHLTH    14818\n",
       "_STATE      14818\n",
       "SMOKE100    14184\n",
       "SMOKDAY2     6417\n",
       "_SMOKER3    14818\n",
       "ALCDAY5     13773\n",
       "_AGE_G      14818\n",
       "dtype: int64"
      ]
     },
     "execution_count": 99,
     "metadata": {},
     "output_type": "execute_result"
    }
   ],
   "source": [
    "new_df_sex[new_df_sex['SEX'] =='Male' ].count()\n"
   ]
  },
  {
   "cell_type": "code",
   "execution_count": 100,
   "metadata": {},
   "outputs": [
    {
     "data": {
      "text/plain": [
       "SEX         18911\n",
       "PHYSHLTH    18911\n",
       "_STATE      18911\n",
       "SMOKE100    18169\n",
       "SMOKDAY2     7047\n",
       "_SMOKER3    18911\n",
       "ALCDAY5     17742\n",
       "_AGE_G      18911\n",
       "dtype: int64"
      ]
     },
     "execution_count": 100,
     "metadata": {},
     "output_type": "execute_result"
    }
   ],
   "source": [
    "new_df_sex[new_df_sex['SEX'] =='Female' ].count()"
   ]
  },
  {
   "cell_type": "code",
   "execution_count": 101,
   "metadata": {},
   "outputs": [
    {
     "data": {
      "text/plain": [
       "4093"
      ]
     },
     "execution_count": 101,
     "metadata": {},
     "output_type": "execute_result"
    }
   ],
   "source": [
    "18911-14818"
   ]
  },
  {
   "cell_type": "code",
   "execution_count": 102,
   "metadata": {
    "scrolled": true
   },
   "outputs": [
    {
     "data": {
      "image/png": "[encoded data removed]",
      "text/plain": [
       "<Figure size 432x288 with 1 Axes>"
      ]
     },
     "metadata": {},
     "output_type": "display_data"
    }
   ],
   "source": [
    "sns.set(style=\"white\", palette=\"muted\", color_codes=True)\n",
    "\n",
    "d = new_df['PHYSHLTH']\n",
    "\n",
    "\n",
    "# Set up the matplotlib figure\n",
    "f, ax = plt.subplots()\n",
    "ax = sns.despine(left=True)\n",
    "\n",
    "# Plot a simple histogram with binsize determined automatically\n",
    "ax = sns.distplot(d,kde=False, bins=15, color=\"r\")\n",
    "#sns.distplot(d, bins=20, kde=False, rug=True);\n",
    "plt.xlabel('Sick Days')\n",
    "\n",
    "plt.setp(ax, yticks=[])\n",
    "plt.tight_layout()"
   ]
  },
  {
   "cell_type": "code",
   "execution_count": 103,
   "metadata": {},
   "outputs": [
    {
     "data": {
      "image/png": "[encoded data removed]",
      "text/plain": [
       "<Figure size 432x288 with 1 Axes>"
      ]
     },
     "metadata": {},
     "output_type": "display_data"
    }
   ],
   "source": [
    "sns.set(style=\"white\", palette=\"muted\", color_codes=True)\n",
    "f, axes = plt.subplots()\n",
    "sns.despine(left=True)\n",
    "\n",
    "# Plot a simple histogram with binsize determined automatically\n",
    "sns.distplot(dfemale['PHYSHLTH'], kde=False, bins=15, color=\"b\")\n",
    "\n",
    "# Plot a kernel density estimate and rug plot\n",
    "sns.distplot(dmale['PHYSHLTH'], kde=False, bins=15,  color=\"r\")\n",
    "\n",
    "plt.setp(axes, yticks=[])\n",
    "plt.tight_layout()"
   ]
  },
  {
   "cell_type": "code",
   "execution_count": 104,
   "metadata": {},
   "outputs": [
    {
     "data": {
      "image/png": "[encoded data removed]",
      "text/plain": [
       "<Figure size 432x288 with 1 Axes>"
      ]
     },
     "metadata": {},
     "output_type": "display_data"
    }
   ],
   "source": [
    "sns.set(style=\"white\", palette=\"muted\", color_codes=True)\n",
    "f, axes = plt.subplots()\n",
    "sns.despine(left=True)\n",
    "sns.distplot(no_sick_day['PHYSHLTH'], kde=False, color=\"b\")\n",
    "plt.setp(axes, yticks=[])\n",
    "plt.tight_layout()"
   ]
  },
  {
   "cell_type": "code",
   "execution_count": 105,
   "metadata": {},
   "outputs": [
    {
     "data": {
      "image/png": "[encoded data removed]",
      "text/plain": [
       "<Figure size 432x288 with 1 Axes>"
      ]
     },
     "metadata": {},
     "output_type": "display_data"
    }
   ],
   "source": [
    "sns.set(style=\"white\", palette=\"muted\", color_codes=True)\n",
    "f, axes = plt.subplots()\n",
    "sns.despine(left=True)\n",
    "\n",
    "# Plot a simple histogram with binsize determined automatically\n",
    "sns.distplot(dfemale_no_sick['PHYSHLTH'], kde=False, bins=30, color=\"b\")\n",
    "\n",
    "# Plot a kernel density estimate and rug plot\n",
    "sns.distplot(dmale_no_sick['PHYSHLTH'], kde=False, bins=30,  color=\"r\")\n",
    "\n",
    "plt.setp(axes, yticks=[])\n",
    "plt.tight_layout()"
   ]
  },
  {
   "cell_type": "code",
   "execution_count": null,
   "metadata": {
    "scrolled": true
   },
   "outputs": [],
   "source": []
  },
  {
   "cell_type": "code",
   "execution_count": 106,
   "metadata": {},
   "outputs": [
    {
     "data": {
      "image/png": "[encoded data removed]",
      "text/plain": [
       "<Figure size 432x288 with 1 Axes>"
      ]
     },
     "metadata": {},
     "output_type": "display_data"
    }
   ],
   "source": [
    "sns.set(style=\"white\", palette=\"muted\", color_codes=True)\n",
    "f, axes = plt.subplots()\n",
    "sns.despine(left=True)\n",
    "sns.distplot(no_sick_day['PHYSHLTH'], kde=False, color=\"b\")\n",
    "plt.setp(axes, yticks=[])\n",
    "plt.tight_layout()"
   ]
  },
  {
   "cell_type": "markdown",
   "metadata": {},
   "source": [
    "## 2. Generate the descriptive statistics\n",
    "\n",
    "Now that our target variable is cleaned up lets calculate the descriptive statistics, generate a graph that quickly shows those statistics, and generate a gprah shows the histogram of the data."
   ]
  },
  {
   "cell_type": "code",
   "execution_count": 116,
   "metadata": {},
   "outputs": [
    {
     "data": {
      "text/html": [
       "<div>\n",
       "<style scoped>\n",
       "    .dataframe tbody tr th:only-of-type {\n",
       "        vertical-align: middle;\n",
       "    }\n",
       "\n",
       "    .dataframe tbody tr th {\n",
       "        vertical-align: top;\n",
       "    }\n",
       "\n",
       "    .dataframe thead th {\n",
       "        text-align: right;\n",
       "    }\n",
       "</style>\n",
       "<table border=\"1\" class=\"dataframe\">\n",
       "  <thead>\n",
       "    <tr style=\"text-align: right;\">\n",
       "      <th></th>\n",
       "      <th>States</th>\n",
       "      <th>Mean_Sick_Day</th>\n",
       "    </tr>\n",
       "  </thead>\n",
       "  <tbody>\n",
       "    <tr>\n",
       "      <td>0</td>\n",
       "      <td>Conneticut</td>\n",
       "      <td>3.688562</td>\n",
       "    </tr>\n",
       "    <tr>\n",
       "      <td>1</td>\n",
       "      <td>New Jersey</td>\n",
       "      <td>4.380957</td>\n",
       "    </tr>\n",
       "    <tr>\n",
       "      <td>2</td>\n",
       "      <td>New York</td>\n",
       "      <td>4.148030</td>\n",
       "    </tr>\n",
       "  </tbody>\n",
       "</table>\n",
       "</div>"
      ],
      "text/plain": [
       "       States  Mean_Sick_Day\n",
       "0  Conneticut       3.688562\n",
       "1  New Jersey       4.380957\n",
       "2    New York       4.148030"
      ]
     },
     "execution_count": 116,
     "metadata": {},
     "output_type": "execute_result"
    }
   ],
   "source": [
    "# descriptive statistics\n",
    "sick_days = df.groupby('_STATE')['PHYSHLTH'].mean()\n",
    "states = ['Conneticut', 'New Jersey', 'New York']\n",
    "\n",
    "d = {'States': states, \"Mean_Sick_Day\": sick_days}\n",
    "Sickday_mean = pd.DataFrame(d)\n",
    "\n",
    "SD_mean = Sickday_mean.reset_index()\n",
    "SD_mean.drop('_STATE',axis=1,inplace=True)\n",
    "SD_mean"
   ]
  },
  {
   "cell_type": "code",
   "execution_count": 117,
   "metadata": {},
   "outputs": [
    {
     "data": {
      "text/html": [
       "<div>\n",
       "<style scoped>\n",
       "    .dataframe tbody tr th:only-of-type {\n",
       "        vertical-align: middle;\n",
       "    }\n",
       "\n",
       "    .dataframe tbody tr th {\n",
       "        vertical-align: top;\n",
       "    }\n",
       "\n",
       "    .dataframe thead th {\n",
       "        text-align: right;\n",
       "    }\n",
       "</style>\n",
       "<table border=\"1\" class=\"dataframe\">\n",
       "  <thead>\n",
       "    <tr style=\"text-align: right;\">\n",
       "      <th></th>\n",
       "      <th>ages</th>\n",
       "      <th>Mean_Sick_Day</th>\n",
       "    </tr>\n",
       "  </thead>\n",
       "  <tbody>\n",
       "    <tr>\n",
       "      <td>0</td>\n",
       "      <td>18 TO 24</td>\n",
       "      <td>1.908431</td>\n",
       "    </tr>\n",
       "    <tr>\n",
       "      <td>1</td>\n",
       "      <td>25 TO 34</td>\n",
       "      <td>2.439264</td>\n",
       "    </tr>\n",
       "    <tr>\n",
       "      <td>2</td>\n",
       "      <td>35 TO 44</td>\n",
       "      <td>3.108158</td>\n",
       "    </tr>\n",
       "    <tr>\n",
       "      <td>3</td>\n",
       "      <td>45 TO 54</td>\n",
       "      <td>4.135131</td>\n",
       "    </tr>\n",
       "    <tr>\n",
       "      <td>4</td>\n",
       "      <td>55 TO 64</td>\n",
       "      <td>4.750454</td>\n",
       "    </tr>\n",
       "    <tr>\n",
       "      <td>5</td>\n",
       "      <td>&gt;65</td>\n",
       "      <td>4.754786</td>\n",
       "    </tr>\n",
       "  </tbody>\n",
       "</table>\n",
       "</div>"
      ],
      "text/plain": [
       "       ages  Mean_Sick_Day\n",
       "0  18 TO 24       1.908431\n",
       "1  25 TO 34       2.439264\n",
       "2  35 TO 44       3.108158\n",
       "3  45 TO 54       4.135131\n",
       "4  55 TO 64       4.750454\n",
       "5       >65       4.754786"
      ]
     },
     "execution_count": 117,
     "metadata": {},
     "output_type": "execute_result"
    }
   ],
   "source": [
    "# descriptive statistics\n",
    "age_days = df.groupby('_AGE_G')['PHYSHLTH'].mean()\n",
    "ages = ['18 TO 24', '25 TO 34', '35 TO 44','45 TO 54','55 TO 64', '>65']\n",
    "\n",
    "d = {'ages': ages, \"Mean_Sick_Day\": age_days}\n",
    "ageday_mean = pd.DataFrame(d)\n",
    "\n",
    "SD_mean_age = ageday_mean.reset_index()\n",
    "SD_mean_age.drop('_AGE_G',axis=1,inplace=True)\n",
    "SD_mean_age"
   ]
  },
  {
   "cell_type": "markdown",
   "metadata": {},
   "source": [
    "## 3. Generate a graphic that compares the average number of sick days for each state. "
   ]
  },
  {
   "cell_type": "code",
   "execution_count": 134,
   "metadata": {},
   "outputs": [
    {
     "data": {
      "image/png": "[encoded data removed]",
      "text/plain": [
       "<Figure size 432x288 with 1 Axes>"
      ]
     },
     "metadata": {},
     "output_type": "display_data"
    }
   ],
   "source": [
    "# code to graph those averages using matplotlib\n",
    "ax1 = sns.barplot(x='States', y='Mean_Sick_Day', \n",
    "                  palette=\"GnBu_d\", edgecolor=\".6\", data=SD_mean);"
   ]
  },
  {
   "cell_type": "code",
   "execution_count": 135,
   "metadata": {},
   "outputs": [
    {
     "data": {
      "image/png": "[encoded data removed]",
      "text/plain": [
       "<Figure size 432x288 with 1 Axes>"
      ]
     },
     "metadata": {},
     "output_type": "display_data"
    }
   ],
   "source": [
    "ax1 = sns.barplot(x='_STATE',y='PHYSHLTH', hue = 'SEX',\n",
    "                  palette=\"BuGn_r\", edgecolor=\".6\", data=new_df_sex);"
   ]
  },
  {
   "cell_type": "code",
   "execution_count": 122,
   "metadata": {},
   "outputs": [
    {
     "data": {
      "image/png": "[encoded data removed]",
      "text/plain": [
       "<Figure size 432x288 with 1 Axes>"
      ]
     },
     "metadata": {},
     "output_type": "display_data"
    }
   ],
   "source": [
    "ax1 = sns.barplot(x='ages', y='Mean_Sick_Day', \n",
    "                  palette=\"Blues\", data=SD_mean_age);\n"
   ]
  },
  {
   "cell_type": "code",
   "execution_count": null,
   "metadata": {},
   "outputs": [],
   "source": []
  },
  {
   "cell_type": "markdown",
   "metadata": {},
   "source": [
    "## 4. Turn the number of sick days into a classification of of chronically sick people.  \n",
    "\n",
    "Chronically sick people account for a significant proportion of the costs for health insurers. If we can identify what leads people to be chronically sick, we can address them with specific treatments.\n",
    "\n"
   ]
  },
  {
   "cell_type": "code",
   "execution_count": 137,
   "metadata": {},
   "outputs": [
    {
     "name": "stderr",
     "output_type": "stream",
     "text": [
      "/Users/andreschaves/opt/anaconda3/lib/python3.7/site-packages/ipykernel_launcher.py:4: SettingWithCopyWarning: \n",
      "A value is trying to be set on a copy of a slice from a DataFrame.\n",
      "Try using .loc[row_indexer,col_indexer] = value instead\n",
      "\n",
      "See the caveats in the documentation: http://pandas.pydata.org/pandas-docs/stable/user_guide/indexing.html#returning-a-view-versus-a-copy\n",
      "  after removing the cwd from sys.path.\n"
     ]
    },
    {
     "data": {
      "text/html": [
       "<div>\n",
       "<style scoped>\n",
       "    .dataframe tbody tr th:only-of-type {\n",
       "        vertical-align: middle;\n",
       "    }\n",
       "\n",
       "    .dataframe tbody tr th {\n",
       "        vertical-align: top;\n",
       "    }\n",
       "\n",
       "    .dataframe thead th {\n",
       "        text-align: right;\n",
       "    }\n",
       "</style>\n",
       "<table border=\"1\" class=\"dataframe\">\n",
       "  <thead>\n",
       "    <tr style=\"text-align: right;\">\n",
       "      <th></th>\n",
       "      <th>SEX</th>\n",
       "      <th>PHYSHLTH</th>\n",
       "      <th>_STATE</th>\n",
       "      <th>SMOKE100</th>\n",
       "      <th>SMOKDAY2</th>\n",
       "      <th>_SMOKER3</th>\n",
       "      <th>ALCDAY5</th>\n",
       "      <th>_AGE_G</th>\n",
       "      <th>CHRONIC</th>\n",
       "    </tr>\n",
       "  </thead>\n",
       "  <tbody>\n",
       "    <tr>\n",
       "      <td>49942</td>\n",
       "      <td>Female</td>\n",
       "      <td>0.0</td>\n",
       "      <td>Conneticut</td>\n",
       "      <td>1.0</td>\n",
       "      <td>Not at all</td>\n",
       "      <td>3.0</td>\n",
       "      <td>101.0</td>\n",
       "      <td>5.0</td>\n",
       "      <td>0</td>\n",
       "    </tr>\n",
       "    <tr>\n",
       "      <td>49944</td>\n",
       "      <td>Female</td>\n",
       "      <td>0.0</td>\n",
       "      <td>Conneticut</td>\n",
       "      <td>1.0</td>\n",
       "      <td>Not at all</td>\n",
       "      <td>3.0</td>\n",
       "      <td>230.0</td>\n",
       "      <td>5.0</td>\n",
       "      <td>0</td>\n",
       "    </tr>\n",
       "    <tr>\n",
       "      <td>49946</td>\n",
       "      <td>Female</td>\n",
       "      <td>28.0</td>\n",
       "      <td>Conneticut</td>\n",
       "      <td>1.0</td>\n",
       "      <td>Not at all</td>\n",
       "      <td>3.0</td>\n",
       "      <td>0.0</td>\n",
       "      <td>6.0</td>\n",
       "      <td>1</td>\n",
       "    </tr>\n",
       "    <tr>\n",
       "      <td>49951</td>\n",
       "      <td>Male</td>\n",
       "      <td>0.0</td>\n",
       "      <td>Conneticut</td>\n",
       "      <td>1.0</td>\n",
       "      <td>Not at all</td>\n",
       "      <td>3.0</td>\n",
       "      <td>0.0</td>\n",
       "      <td>6.0</td>\n",
       "      <td>0</td>\n",
       "    </tr>\n",
       "    <tr>\n",
       "      <td>49954</td>\n",
       "      <td>Male</td>\n",
       "      <td>0.0</td>\n",
       "      <td>Conneticut</td>\n",
       "      <td>1.0</td>\n",
       "      <td>Not at all</td>\n",
       "      <td>3.0</td>\n",
       "      <td>202.0</td>\n",
       "      <td>5.0</td>\n",
       "      <td>0</td>\n",
       "    </tr>\n",
       "    <tr>\n",
       "      <td>...</td>\n",
       "      <td>...</td>\n",
       "      <td>...</td>\n",
       "      <td>...</td>\n",
       "      <td>...</td>\n",
       "      <td>...</td>\n",
       "      <td>...</td>\n",
       "      <td>...</td>\n",
       "      <td>...</td>\n",
       "      <td>...</td>\n",
       "    </tr>\n",
       "    <tr>\n",
       "      <td>303768</td>\n",
       "      <td>Male</td>\n",
       "      <td>0.0</td>\n",
       "      <td>New York</td>\n",
       "      <td>1.0</td>\n",
       "      <td>Not at all</td>\n",
       "      <td>3.0</td>\n",
       "      <td>201.0</td>\n",
       "      <td>2.0</td>\n",
       "      <td>0</td>\n",
       "    </tr>\n",
       "    <tr>\n",
       "      <td>303769</td>\n",
       "      <td>Male</td>\n",
       "      <td>10.0</td>\n",
       "      <td>New York</td>\n",
       "      <td>1.0</td>\n",
       "      <td>Not at all</td>\n",
       "      <td>3.0</td>\n",
       "      <td>102.0</td>\n",
       "      <td>5.0</td>\n",
       "      <td>0</td>\n",
       "    </tr>\n",
       "    <tr>\n",
       "      <td>303773</td>\n",
       "      <td>Female</td>\n",
       "      <td>2.0</td>\n",
       "      <td>New York</td>\n",
       "      <td>1.0</td>\n",
       "      <td>Not at all</td>\n",
       "      <td>3.0</td>\n",
       "      <td>208.0</td>\n",
       "      <td>2.0</td>\n",
       "      <td>0</td>\n",
       "    </tr>\n",
       "    <tr>\n",
       "      <td>303774</td>\n",
       "      <td>Male</td>\n",
       "      <td>0.0</td>\n",
       "      <td>New York</td>\n",
       "      <td>1.0</td>\n",
       "      <td>Every day</td>\n",
       "      <td>1.0</td>\n",
       "      <td>203.0</td>\n",
       "      <td>4.0</td>\n",
       "      <td>0</td>\n",
       "    </tr>\n",
       "    <tr>\n",
       "      <td>303776</td>\n",
       "      <td>Male</td>\n",
       "      <td>6.0</td>\n",
       "      <td>New York</td>\n",
       "      <td>1.0</td>\n",
       "      <td>Not at all</td>\n",
       "      <td>3.0</td>\n",
       "      <td>204.0</td>\n",
       "      <td>2.0</td>\n",
       "      <td>0</td>\n",
       "    </tr>\n",
       "  </tbody>\n",
       "</table>\n",
       "<p>13464 rows × 9 columns</p>\n",
       "</div>"
      ],
      "text/plain": [
       "           SEX  PHYSHLTH      _STATE  SMOKE100    SMOKDAY2  _SMOKER3  ALCDAY5  \\\n",
       "49942   Female       0.0  Conneticut       1.0  Not at all       3.0    101.0   \n",
       "49944   Female       0.0  Conneticut       1.0  Not at all       3.0    230.0   \n",
       "49946   Female      28.0  Conneticut       1.0  Not at all       3.0      0.0   \n",
       "49951     Male       0.0  Conneticut       1.0  Not at all       3.0      0.0   \n",
       "49954     Male       0.0  Conneticut       1.0  Not at all       3.0    202.0   \n",
       "...        ...       ...         ...       ...         ...       ...      ...   \n",
       "303768    Male       0.0    New York       1.0  Not at all       3.0    201.0   \n",
       "303769    Male      10.0    New York       1.0  Not at all       3.0    102.0   \n",
       "303773  Female       2.0    New York       1.0  Not at all       3.0    208.0   \n",
       "303774    Male       0.0    New York       1.0   Every day       1.0    203.0   \n",
       "303776    Male       6.0    New York       1.0  Not at all       3.0    204.0   \n",
       "\n",
       "        _AGE_G  CHRONIC  \n",
       "49942      5.0        0  \n",
       "49944      5.0        0  \n",
       "49946      6.0        1  \n",
       "49951      6.0        0  \n",
       "49954      5.0        0  \n",
       "...        ...      ...  \n",
       "303768     2.0        0  \n",
       "303769     5.0        0  \n",
       "303773     2.0        0  \n",
       "303774     4.0        0  \n",
       "303776     2.0        0  \n",
       "\n",
       "[13464 rows x 9 columns]"
      ]
     },
     "execution_count": 137,
     "metadata": {},
     "output_type": "execute_result"
    }
   ],
   "source": [
    "# code to create new colum for chronically sick\n",
    "\n",
    "\n",
    "new_df_sex['CHRONIC'] = np.where(new_df_sex['PHYSHLTH'] >= 15, 1, 0)\n",
    "\n",
    "new_df_sex"
   ]
  },
  {
   "cell_type": "markdown",
   "metadata": {},
   "source": [
    "## 5. Create a graphic that compares the percentage of people labeled as 'sick' in each state. "
   ]
  },
  {
   "cell_type": "code",
   "execution_count": 138,
   "metadata": {
    "scrolled": true
   },
   "outputs": [
    {
     "data": {
      "image/png": "[encoded data removed]",
      "text/plain": [
       "<Figure size 432x288 with 1 Axes>"
      ]
     },
     "metadata": {},
     "output_type": "display_data"
    }
   ],
   "source": [
    "ax1 = sns.barplot(x='_STATE',y='CHRONIC',\n",
    "                  palette=\"GnBu_d\", data=new_df_sex);"
   ]
  },
  {
   "cell_type": "code",
   "execution_count": null,
   "metadata": {},
   "outputs": [],
   "source": [
    "\n"
   ]
  },
  {
   "cell_type": "markdown",
   "metadata": {},
   "source": [
    "## 6. Independent Variables (categorical)\n",
    "\n",
    "Let's take the column `SMOKDAY2` and start to prepare it so that we can see how it is possibly correlated to `PHYSHLTH`.\n",
    "\n",
    "1. Clean up the values.\n",
    "2. Calculate the descriptive statistics of the variable.\n",
    "3. Generate a histogram for the variable.\n",
    "4. Generate graphics that show how the responses to this variable might differ by state.\n",
    "5. Generate a graphic that compares the physical health of the different groups of 'smokers'."
   ]
  },
  {
   "cell_type": "code",
   "execution_count": 33,
   "metadata": {},
   "outputs": [
    {
     "data": {
      "text/plain": [
       "(33747, 358)"
      ]
     },
     "execution_count": 33,
     "metadata": {},
     "output_type": "execute_result"
    }
   ],
   "source": [
    "df.shape"
   ]
  },
  {
   "cell_type": "markdown",
   "metadata": {},
   "source": [
    "First we need to update SMOKDAY2 based on the No ansewers in SMOKE100.\n",
    "\n",
    "\n"
   ]
  },
  {
   "cell_type": "code",
   "execution_count": 34,
   "metadata": {},
   "outputs": [
    {
     "name": "stderr",
     "output_type": "stream",
     "text": [
      "/Users/andreschaves/opt/anaconda3/lib/python3.7/site-packages/pandas/core/indexing.py:494: SettingWithCopyWarning: \n",
      "A value is trying to be set on a copy of a slice from a DataFrame.\n",
      "Try using .loc[row_indexer,col_indexer] = value instead\n",
      "\n",
      "See the caveats in the documentation: http://pandas.pydata.org/pandas-docs/stable/user_guide/indexing.html#returning-a-view-versus-a-copy\n",
      "  self.obj[item] = s\n"
     ]
    }
   ],
   "source": [
    "new_df_sex.loc[new_df_sex['SMOKE100'] == 2, ['SMOKDAY2']] = 3"
   ]
  },
  {
   "cell_type": "code",
   "execution_count": 35,
   "metadata": {},
   "outputs": [
    {
     "name": "stderr",
     "output_type": "stream",
     "text": [
      "/Users/andreschaves/opt/anaconda3/lib/python3.7/site-packages/pandas/core/frame.py:4102: SettingWithCopyWarning: \n",
      "A value is trying to be set on a copy of a slice from a DataFrame\n",
      "\n",
      "See the caveats in the documentation: http://pandas.pydata.org/pandas-docs/stable/user_guide/indexing.html#returning-a-view-versus-a-copy\n",
      "  errors=errors,\n"
     ]
    }
   ],
   "source": [
    "new_df_sex.drop(new_df_sex[(new_df_sex['SMOKDAY2'] == 7) |\n",
    "                          (new_df_sex['SMOKDAY2'] == 9)].index ,\n",
    "               inplace = True)\n"
   ]
  },
  {
   "cell_type": "code",
   "execution_count": 125,
   "metadata": {},
   "outputs": [
    {
     "name": "stderr",
     "output_type": "stream",
     "text": [
      "/Users/andreschaves/opt/anaconda3/lib/python3.7/site-packages/pandas/core/frame.py:4102: SettingWithCopyWarning: \n",
      "A value is trying to be set on a copy of a slice from a DataFrame\n",
      "\n",
      "See the caveats in the documentation: http://pandas.pydata.org/pandas-docs/stable/user_guide/indexing.html#returning-a-view-versus-a-copy\n",
      "  errors=errors,\n"
     ]
    }
   ],
   "source": [
    "new_df_sex.drop(new_df_sex[(new_df_sex['SMOKDAY2'] == np.nan)].index,\n",
    "                inplace = True)"
   ]
  },
  {
   "cell_type": "code",
   "execution_count": 126,
   "metadata": {},
   "outputs": [
    {
     "name": "stderr",
     "output_type": "stream",
     "text": [
      "/Users/andreschaves/opt/anaconda3/lib/python3.7/site-packages/ipykernel_launcher.py:1: SettingWithCopyWarning: \n",
      "A value is trying to be set on a copy of a slice from a DataFrame\n",
      "\n",
      "See the caveats in the documentation: http://pandas.pydata.org/pandas-docs/stable/user_guide/indexing.html#returning-a-view-versus-a-copy\n",
      "  \"\"\"Entry point for launching an IPython kernel.\n"
     ]
    }
   ],
   "source": [
    "new_df_sex.dropna(subset=['SMOKDAY2'], inplace = True)\n"
   ]
  },
  {
   "cell_type": "code",
   "execution_count": 127,
   "metadata": {},
   "outputs": [
    {
     "data": {
      "text/plain": [
       "3.0    9491\n",
       "1.0    2610\n",
       "2.0    1336\n",
       "9.0      21\n",
       "7.0       6\n",
       "Name: SMOKDAY2, dtype: int64"
      ]
     },
     "execution_count": 127,
     "metadata": {},
     "output_type": "execute_result"
    }
   ],
   "source": [
    "new_df_sex['SMOKDAY2'].value_counts()\n"
   ]
  },
  {
   "cell_type": "code",
   "execution_count": 128,
   "metadata": {},
   "outputs": [],
   "source": [
    "smoke_type = ['Every day', 'Some days', 'Not at all']"
   ]
  },
  {
   "cell_type": "code",
   "execution_count": 129,
   "metadata": {},
   "outputs": [],
   "source": [
    "new_smoke = dict(zip([1,2,3], smoke_type))"
   ]
  },
  {
   "cell_type": "code",
   "execution_count": 130,
   "metadata": {},
   "outputs": [
    {
     "data": {
      "text/plain": [
       "{1: 'Every day', 2: 'Some days', 3: 'Not at all'}"
      ]
     },
     "execution_count": 130,
     "metadata": {},
     "output_type": "execute_result"
    }
   ],
   "source": [
    "new_smoke"
   ]
  },
  {
   "cell_type": "code",
   "execution_count": 131,
   "metadata": {},
   "outputs": [],
   "source": [
    "new_df_sex['SMOKDAY2'].replace(new_smoke, inplace = True)"
   ]
  },
  {
   "cell_type": "code",
   "execution_count": 132,
   "metadata": {},
   "outputs": [
    {
     "data": {
      "text/plain": [
       "Not at all    9491\n",
       "Every day     2610\n",
       "Some days     1336\n",
       "9.0             21\n",
       "7.0              6\n",
       "Name: SMOKDAY2, dtype: int64"
      ]
     },
     "execution_count": 132,
     "metadata": {},
     "output_type": "execute_result"
    }
   ],
   "source": [
    "new_df_sex['SMOKDAY2'].value_counts()"
   ]
  },
  {
   "cell_type": "code",
   "execution_count": 133,
   "metadata": {},
   "outputs": [
    {
     "data": {
      "image/png": "[encoded data removed]",
      "text/plain": [
       "<Figure size 432x288 with 1 Axes>"
      ]
     },
     "metadata": {},
     "output_type": "display_data"
    }
   ],
   "source": [
    " ax = sns.countplot(y=\"SMOKDAY2\", hue='SEX', data=new_df_sex)"
   ]
  },
  {
   "cell_type": "code",
   "execution_count": 45,
   "metadata": {},
   "outputs": [
    {
     "data": {
      "image/png": "[encoded data removed]",
      "text/plain": [
       "<Figure size 432x288 with 1 Axes>"
      ]
     },
     "metadata": {},
     "output_type": "display_data"
    }
   ],
   "source": [
    "ax1 = sns.barplot(x='SMOKDAY2',y='PHYSHLTH', hue = 'SEX',\n",
    "                  palette=\"pastel\", edgecolor=\".6\", data=new_df_sex);"
   ]
  },
  {
   "cell_type": "code",
   "execution_count": 46,
   "metadata": {},
   "outputs": [
    {
     "data": {
      "image/png": "[encoded data removed]",
      "text/plain": [
       "<Figure size 403.2x288 with 2 Axes>"
      ]
     },
     "metadata": {},
     "output_type": "display_data"
    }
   ],
   "source": [
    "ax2 = sns.catplot(x=\"SMOKDAY2\", col=\"SEX\", \n",
    "                  data=new_df_sex, kind=\"count\",\n",
    "                  height=4, aspect=.7);"
   ]
  },
  {
   "cell_type": "code",
   "execution_count": null,
   "metadata": {},
   "outputs": [],
   "source": [
    "ax2 = sns.catplot(x=\"SMOKDAY2\", col=\"SEX\", \n",
    "                  data=new_df_sex, kind=\"count\",\n",
    "                  height=4, aspect=.7);"
   ]
  },
  {
   "cell_type": "markdown",
   "metadata": {},
   "source": [
    "\n",
    "## 7. Independent Variables (continuous):\n",
    "\n",
    "Now let's look at a continuous variable (ALCDAY5) and see how that might impact a person's health. \n",
    "\n",
    "1. Clean up the values.\n",
    "2. Calculate the descriptive statistics of the variable.\n",
    "3. Generate a histogram for the variable.\n",
    "4. Generate graphics that show how the responses to this variable might differ by state.\n",
    "5. Calculate the correlation coefficient between `PHYSHLTH` and `ALCDAY5`.\n",
    "5. Generate a graphic that shows the possible relationship between `PHYSHLTH` and `ALCDAY5`."
   ]
  },
  {
   "cell_type": "markdown",
   "metadata": {},
   "source": [
    "## 8. Additional variables: Choose two additional survey items you would like to investigate do steps  6 or 7 for those variables."
   ]
  },
  {
   "cell_type": "code",
   "execution_count": 49,
   "metadata": {},
   "outputs": [
    {
     "name": "stderr",
     "output_type": "stream",
     "text": [
      "/Users/andreschaves/opt/anaconda3/lib/python3.7/site-packages/pandas/core/generic.py:6786: SettingWithCopyWarning: \n",
      "A value is trying to be set on a copy of a slice from a DataFrame\n",
      "\n",
      "See the caveats in the documentation: http://pandas.pydata.org/pandas-docs/stable/user_guide/indexing.html#returning-a-view-versus-a-copy\n",
      "  self._update_inplace(new_data)\n"
     ]
    }
   ],
   "source": [
    "alc_new = {888:0,\n",
    "             777: np.nan,\n",
    "             999: np.nan}\n",
    "\n",
    "\n",
    "new_df_sex['ALCDAY5'].replace(alc_new, inplace = True)"
   ]
  },
  {
   "cell_type": "code",
   "execution_count": 51,
   "metadata": {
    "collapsed": true
   },
   "outputs": [
    {
     "data": {
      "text/plain": [
       "0.0      12542\n",
       "201.0     2946\n",
       "202.0     2284\n",
       "101.0     1557\n",
       "203.0     1313\n",
       "102.0     1209\n",
       "205.0     1141\n",
       "230.0     1139\n",
       "204.0     1125\n",
       "210.0      829\n",
       "103.0      769\n",
       "107.0      690\n",
       "220.0      636\n",
       "215.0      584\n",
       "206.0      382\n",
       "104.0      378\n",
       "208.0      359\n",
       "105.0      345\n",
       "207.0      276\n",
       "225.0      263\n",
       "212.0      142\n",
       "106.0      109\n",
       "228.0       55\n",
       "214.0       51\n",
       "229.0       31\n",
       "209.0       26\n",
       "227.0       24\n",
       "218.0       18\n",
       "226.0       15\n",
       "216.0       15\n",
       "224.0       14\n",
       "222.0       13\n",
       "221.0       13\n",
       "213.0       11\n",
       "211.0       10\n",
       "217.0        7\n",
       "223.0        2\n",
       "219.0        1\n",
       "Name: ALCDAY5, dtype: int64"
      ]
     },
     "execution_count": 51,
     "metadata": {},
     "output_type": "execute_result"
    }
   ],
   "source": [
    "new_df_sex['ALCDAY5'].value_counts()"
   ]
  },
  {
   "cell_type": "code",
   "execution_count": 81,
   "metadata": {},
   "outputs": [],
   "source": [
    "#cleaning data\n",
    "\n",
    "def alcday(x):\n",
    "    if x > 200:\n",
    "        return x-200\n",
    "    elif x > 100:\n",
    "        return  (x-100)*4\n",
    "    else:\n",
    "        return x"
   ]
  },
  {
   "cell_type": "code",
   "execution_count": 82,
   "metadata": {},
   "outputs": [
    {
     "name": "stderr",
     "output_type": "stream",
     "text": [
      "/Users/andreschaves/opt/anaconda3/lib/python3.7/site-packages/ipykernel_launcher.py:2: SettingWithCopyWarning: \n",
      "A value is trying to be set on a copy of a slice from a DataFrame.\n",
      "Try using .loc[row_indexer,col_indexer] = value instead\n",
      "\n",
      "See the caveats in the documentation: http://pandas.pydata.org/pandas-docs/stable/user_guide/indexing.html#returning-a-view-versus-a-copy\n",
      "  \n"
     ]
    }
   ],
   "source": [
    "new_df_sex['DRINKDAY'] = new_df_sex.apply(lambda row: alcday(row['ALCDAY5']),\n",
    "                                                           axis=1)"
   ]
  },
  {
   "cell_type": "code",
   "execution_count": 83,
   "metadata": {},
   "outputs": [
    {
     "data": {
      "text/plain": [
       "0.0     12542\n",
       "1.0      2946\n",
       "4.0      2682\n",
       "2.0      2284\n",
       "8.0      1568\n",
       "3.0      1313\n",
       "5.0      1141\n",
       "30.0     1139\n",
       "20.0      981\n",
       "12.0      911\n",
       "10.0      829\n",
       "28.0      745\n",
       "15.0      584\n",
       "16.0      393\n",
       "6.0       382\n",
       "7.0       276\n",
       "25.0      263\n",
       "24.0      123\n",
       "14.0       51\n",
       "29.0       31\n",
       "9.0        26\n",
       "27.0       24\n",
       "18.0       18\n",
       "26.0       15\n",
       "22.0       13\n",
       "21.0       13\n",
       "13.0       11\n",
       "11.0       10\n",
       "17.0        7\n",
       "23.0        2\n",
       "19.0        1\n",
       "Name: DRINKDAY, dtype: int64"
      ]
     },
     "execution_count": 83,
     "metadata": {},
     "output_type": "execute_result"
    }
   ],
   "source": [
    "new_df_sex['DRINKDAY'].value_counts()"
   ]
  },
  {
   "cell_type": "code",
   "execution_count": 86,
   "metadata": {},
   "outputs": [
    {
     "data": {
      "image/png": "[encoded data removed]",
      "text/plain": [
       "<Figure size 1152x432 with 1 Axes>"
      ]
     },
     "metadata": {},
     "output_type": "display_data"
    }
   ],
   "source": [
    "plt.figure(figsize=(16, 6))\n",
    "ax3 = sns.countplot(x=\"DRINKDAY\", hue='SEX', data=new_df_sex)\n"
   ]
  },
  {
   "cell_type": "code",
   "execution_count": null,
   "metadata": {},
   "outputs": [],
   "source": []
  },
  {
   "cell_type": "markdown",
   "metadata": {},
   "source": [
    "## 9. Based on your initial data exploration, what are some hypotheses of what affects a person's health that you would like to further investigate?"
   ]
  },
  {
   "cell_type": "markdown",
   "metadata": {},
   "source": [
    "Type out your initial hyptotheses below:\n",
    "\n",
    "1. \n",
    "\n",
    "2. \n",
    "\n",
    "3.  "
   ]
  },
  {
   "cell_type": "markdown",
   "metadata": {},
   "source": [
    "## Bonus: Create some cool graphics.  "
   ]
  },
  {
   "cell_type": "code",
   "execution_count": null,
   "metadata": {},
   "outputs": [],
   "source": []
  },
  {
   "cell_type": "code",
   "execution_count": null,
   "metadata": {},
   "outputs": [],
   "source": []
  },
  {
   "cell_type": "code",
   "execution_count": null,
   "metadata": {
    "scrolled": true
   },
   "outputs": [],
   "source": []
  },
  {
   "cell_type": "code",
   "execution_count": null,
   "metadata": {},
   "outputs": [],
   "source": []
  },
  {
   "cell_type": "code",
   "execution_count": null,
   "metadata": {},
   "outputs": [],
   "source": []
  }
 ],
 "metadata": {
  "kernelspec": {
   "display_name": "Python 3",
   "language": "python",
   "name": "python3"
  },
  "language_info": {
   "codemirror_mode": {
    "name": "ipython",
    "version": 3
   },
   "file_extension": ".py",
   "mimetype": "text/x-python",
   "name": "python",
   "nbconvert_exporter": "python",
   "pygments_lexer": "ipython3",
   "version": "3.7.4"
  }
 },
 "nbformat": 4,
 "nbformat_minor": 2
}
