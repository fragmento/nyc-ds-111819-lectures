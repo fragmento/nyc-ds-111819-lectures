{
 "cells": [
  {
   "cell_type": "markdown",
   "metadata": {},
   "source": [
    "# Combining Python, SQL DBs and AWS"
   ]
  },
  {
   "cell_type": "markdown",
   "metadata": {},
   "source": [
    "## Aim: Create a RDB instance on AWS, connect to it through python, and execute queries.  \n"
   ]
  },
  {
   "cell_type": "markdown",
   "metadata": {},
   "source": [
    "## Create an instance on AWS  \n",
    "    \n",
    "https://aws.amazon.com/getting-started/tutorials/create-mysql-db/"
   ]
  },
  {
   "cell_type": "markdown",
   "metadata": {},
   "source": [
    "##  Using MYSQLWorkbench\n",
    "\n",
    "Before we complicate things with using Python, we want to use MYSQLWorkbench to make sure we set up our AWS server correctly and can connect to it.  \n",
    "\n",
    "- Create a connection to the AWS server\n",
    "- Execute a simple create table query\n",
    "- Drop the table\n"
   ]
  },
  {
   "cell_type": "markdown",
   "metadata": {},
   "source": [
    "# Using Python with MYSQL DB"
   ]
  },
  {
   "cell_type": "code",
   "execution_count": 3,
   "metadata": {
    "collapsed": true
   },
   "outputs": [
    {
     "name": "stdout",
     "output_type": "stream",
     "text": [
      "Collecting mysql-connector-python\n",
      "  Using cached https://files.pythonhosted.org/packages/b0/d6/19f81615060d9a0eae204bd621fb5aa6604abc3fa45123583df029bd0895/mysql_connector_python-8.0.18-cp37-cp37m-macosx_10_13_x86_64.whl\n",
      "Collecting protobuf>=3.0.0 (from mysql-connector-python)\n",
      "  Using cached https://files.pythonhosted.org/packages/63/c3/c1929b176a62f2960fe8f9346bd7c3ed42dc2af7d61c0e9b21e36c68e2ce/protobuf-3.11.1-cp37-cp37m-macosx_10_9_intel.whl\n",
      "Requirement already satisfied: setuptools in /Users/flatironschool/opt/anaconda3/lib/python3.7/site-packages (from protobuf>=3.0.0->mysql-connector-python) (41.4.0)\n",
      "Requirement already satisfied: six>=1.9 in /Users/flatironschool/opt/anaconda3/lib/python3.7/site-packages (from protobuf>=3.0.0->mysql-connector-python) (1.12.0)\n",
      "Installing collected packages: protobuf, mysql-connector-python\n",
      "Successfully installed mysql-connector-python-8.0.18 protobuf-3.11.1\n"
     ]
    }
   ],
   "source": [
    "# make sure we have the package installed\n",
    "#!pip install mysql-connector-python"
   ]
  },
  {
   "cell_type": "code",
   "execution_count": 5,
   "metadata": {},
   "outputs": [],
   "source": [
    "## importing 'mysql.connector' \n",
    "import mysql.connector \n",
    "import numpy as np\n",
    "import pandas as pd\n",
    "import matplotlib.pyplot as plt\n",
    "import seaborn as sns\n",
    "\n",
    "%matplotlib inline\n"
   ]
  },
  {
   "cell_type": "markdown",
   "metadata": {},
   "source": [
    "### Documentation:\n",
    "\n",
    "https://dev.mysql.com/doc/connector-python/en/connector-python-connectargs.html"
   ]
  },
  {
   "cell_type": "markdown",
   "metadata": {},
   "source": [
    "## Using a config File:\n",
    "\n",
    "You do not want to make your credentials viewable to everyone who might see this file.  So instead of explicity stating your credentials, we want to import them from another file.  "
   ]
  },
  {
   "cell_type": "code",
   "execution_count": 6,
   "metadata": {},
   "outputs": [],
   "source": [
    "import config\n",
    "import datetime"
   ]
  },
  {
   "cell_type": "code",
   "execution_count": 7,
   "metadata": {},
   "outputs": [
    {
     "data": {
      "text/plain": [
       "'Emma815acc'"
      ]
     },
     "execution_count": 7,
     "metadata": {},
     "output_type": "execute_result"
    }
   ],
   "source": [
    "config.password"
   ]
  },
  {
   "cell_type": "code",
   "execution_count": 8,
   "metadata": {},
   "outputs": [
    {
     "name": "stdout",
     "output_type": "stream",
     "text": [
      "<mysql.connector.connection_cext.CMySQLConnection object at 0x1a1bfabbd0>\n"
     ]
    }
   ],
   "source": [
    "## Connecting to the database\n",
    "\n",
    "## connecting to the database using 'connect()' method\n",
    "## it takes 3 required parameters 'host', 'user', 'passwd'\n",
    "cnx = mysql.connector .connect(\n",
    "    host = config.host,\n",
    "    user = config.user,\n",
    "    passwd = config.password\n",
    ")\n",
    "\n",
    "print(cnx) # it will print a connection object if everything is fine\n"
   ]
  },
  {
   "cell_type": "code",
   "execution_count": 9,
   "metadata": {},
   "outputs": [],
   "source": [
    "cursor = cnx.cursor()"
   ]
  },
  {
   "cell_type": "markdown",
   "metadata": {},
   "source": [
    "## Creating DB"
   ]
  },
  {
   "cell_type": "code",
   "execution_count": 12,
   "metadata": {},
   "outputs": [],
   "source": [
    "import mysql.connector\n",
    "from mysql.connector import errorcode"
   ]
  },
  {
   "cell_type": "code",
   "execution_count": 13,
   "metadata": {},
   "outputs": [],
   "source": [
    "db_name = 'employees'"
   ]
  },
  {
   "cell_type": "code",
   "execution_count": 14,
   "metadata": {},
   "outputs": [],
   "source": [
    "def create_database(cursor, database):\n",
    "    try:\n",
    "        cursor.execute(\n",
    "            \"CREATE DATABASE {} DEFAULT CHARACTER SET 'utf8'\".format(database))\n",
    "    except mysql.connector.Error as err:\n",
    "        print(\"Failed creating database: {}\".format(err))\n",
    "        exit(1)\n",
    "\n",
    "try:\n",
    "    cursor.execute(\"USE {}\".format(db_name))\n",
    "except mysql.connector.Error as err:\n",
    "    print(\"Database {} does not exists.\".format(db_name))\n",
    "    if err.errno == errorcode.ER_BAD_DB_ERROR:\n",
    "        create_database(cursor, db_name)\n",
    "        print(\"Database {} created successfully.\".format(db_name))\n",
    "        cnx.database = db_name\n",
    "    else:\n",
    "        print(err)\n",
    "        exit(1)"
   ]
  },
  {
   "cell_type": "markdown",
   "metadata": {},
   "source": [
    "### Creating tables"
   ]
  },
  {
   "cell_type": "code",
   "execution_count": 15,
   "metadata": {},
   "outputs": [],
   "source": [
    "DB_NAME = 'employees'\n",
    "\n",
    "TABLES = {}\n",
    "TABLES['employees'] = (\n",
    "    \"CREATE TABLE employees (\"\n",
    "    \"  emp_no int(11) NOT NULL AUTO_INCREMENT,\"\n",
    "    \"  birth_date date NOT NULL,\"\n",
    "    \"  first_name varchar(14) NOT NULL,\"\n",
    "    \"  last_name varchar(16) NOT NULL,\"\n",
    "    \"  gender enum('M','F') NOT NULL,\"\n",
    "    \"  hire_date date NOT NULL,\"\n",
    "    \"  PRIMARY KEY (emp_no)\"\n",
    "    \") ENGINE=InnoDB\")\n",
    "\n",
    "TABLES['departments'] = (\n",
    "    \"CREATE TABLE departments (\"\n",
    "    \"  dept_no char(4) NOT NULL,\"\n",
    "    \"  dept_name varchar(40) NOT NULL,\"\n",
    "    \"  PRIMARY KEY (dept_no), UNIQUE KEY dept_name (dept_name)\"\n",
    "    \") ENGINE=InnoDB\")\n",
    "\n",
    "TABLES['salaries'] = (\n",
    "    \"CREATE TABLE salaries (\"\n",
    "    \"  emp_no int(11) NOT NULL,\"\n",
    "    \"  salary int(11) NOT NULL,\"\n",
    "    \"  from_date date NOT NULL,\"\n",
    "    \"  to_date date NOT NULL,\"\n",
    "    \"  PRIMARY KEY (emp_no,from_date), KEY emp_no (emp_no),\"\n",
    "    \"  CONSTRAINT salaries_ibfk_1 FOREIGN KEY (emp_no) \"\n",
    "    \"     REFERENCES employees (emp_no) ON DELETE CASCADE\"\n",
    "    \") ENGINE=InnoDB\")\n",
    "\n",
    "TABLES['dept_emp'] = (\n",
    "    \"CREATE TABLE dept_emp (\"\n",
    "    \"  emp_no int(11) NOT NULL,\"\n",
    "    \"  dept_no char(4) NOT NULL,\"\n",
    "    \"  from_date date NOT NULL,\"\n",
    "    \"  to_date date NOT NULL,\"\n",
    "    \"  PRIMARY KEY (emp_no,dept_no), KEY emp_no (emp_no),\"\n",
    "    \"  KEY dept_no (dept_no),\"\n",
    "    \"  CONSTRAINT dept_emp_ibfk_1 FOREIGN KEY (emp_no) \"\n",
    "    \"     REFERENCES employees (emp_no) ON DELETE CASCADE,\"\n",
    "    \"  CONSTRAINT dept_emp_ibfk_2 FOREIGN KEY (dept_no) \"\n",
    "    \"     REFERENCES departments (dept_no) ON DELETE CASCADE\"\n",
    "    \") ENGINE=InnoDB\")\n",
    "\n",
    "TABLES['dept_manager'] = (\n",
    "    \"  CREATE TABLE dept_manager (\"\n",
    "    \"  dept_no char(4) NOT NULL,\"\n",
    "    \"  emp_no int(11) NOT NULL,\"\n",
    "    \"  from_date date NOT NULL,\"\n",
    "    \"  to_date date NOT NULL,\"\n",
    "    \"  PRIMARY KEY (emp_no,dept_no),\"\n",
    "    \"  KEY emp_no (emp_no),\"\n",
    "    \"  KEY dept_no (dept_no),\"\n",
    "    \"  CONSTRAINT dept_manager_ibfk_1 FOREIGN KEY (emp_no) \"\n",
    "    \"     REFERENCES employees (emp_no) ON DELETE CASCADE,\"\n",
    "    \"  CONSTRAINT dept_manager_ibfk_2 FOREIGN KEY (dept_no) \"\n",
    "    \"     REFERENCES departments (dept_no) ON DELETE CASCADE\"\n",
    "    \") ENGINE=InnoDB\")\n",
    "\n",
    "TABLES['titles'] = (\n",
    "    \"CREATE TABLE titles (\"\n",
    "    \"  emp_no int(11) NOT NULL,\"\n",
    "    \"  title varchar(50) NOT NULL,\"\n",
    "    \"  from_date date NOT NULL,\"\n",
    "    \"  to_date date DEFAULT NULL,\"\n",
    "    \"  PRIMARY KEY (emp_no,title,from_date), KEY emp_no (emp_no),\"\n",
    "    \"  CONSTRAINT titles_ibfk_1 FOREIGN KEY (emp_no)\"\n",
    "    \"     REFERENCES employees (emp_no) ON DELETE CASCADE\"\n",
    "    \") ENGINE=InnoDB\")"
   ]
  },
  {
   "cell_type": "code",
   "execution_count": 16,
   "metadata": {},
   "outputs": [
    {
     "data": {
      "text/plain": [
       "\"CREATE TABLE employees (  emp_no int(11) NOT NULL AUTO_INCREMENT,  birth_date date NOT NULL,  first_name varchar(14) NOT NULL,  last_name varchar(16) NOT NULL,  gender enum('M','F') NOT NULL,  hire_date date NOT NULL,  PRIMARY KEY (emp_no)) ENGINE=InnoDB\""
      ]
     },
     "execution_count": 16,
     "metadata": {},
     "output_type": "execute_result"
    }
   ],
   "source": [
    "TABLES['employees']"
   ]
  },
  {
   "cell_type": "code",
   "execution_count": 17,
   "metadata": {},
   "outputs": [],
   "source": [
    "cnx = mysql.connector.connect(\n",
    "    host = config.host,\n",
    "    user = config.user,\n",
    "    passwd = config.password,\n",
    "    database = 'employees'\n",
    ")\n",
    "cursor = cnx.cursor()"
   ]
  },
  {
   "cell_type": "code",
   "execution_count": 18,
   "metadata": {},
   "outputs": [
    {
     "name": "stdout",
     "output_type": "stream",
     "text": [
      "Creating table employees: already exists.\n",
      "Creating table departments: already exists.\n",
      "Creating table salaries: already exists.\n",
      "Creating table dept_emp: already exists.\n",
      "Creating table dept_manager: already exists.\n",
      "Creating table titles: already exists.\n"
     ]
    }
   ],
   "source": [
    "for table_name in TABLES:\n",
    "    table_description = TABLES[table_name]\n",
    "    try:\n",
    "        print(\"Creating table {}: \".format(table_name), end='')\n",
    "        cursor.execute(table_description)\n",
    "    except mysql.connector.Error as err:\n",
    "        if err.errno == errorcode.ER_TABLE_EXISTS_ERROR:\n",
    "            print(\"already exists.\")\n",
    "        else:\n",
    "            print(err.msg)\n",
    "    else:\n",
    "        print(\"OK\")\n",
    "\n",
    "cursor.close()\n",
    "cnx.close()"
   ]
  },
  {
   "cell_type": "markdown",
   "metadata": {},
   "source": [
    "## Inserting Data"
   ]
  },
  {
   "cell_type": "code",
   "execution_count": 19,
   "metadata": {},
   "outputs": [],
   "source": [
    "from datetime import date, datetime, timedelta\n",
    "\n",
    "#since we closed the connection, we need to reinstatiate it\n",
    "cnx = mysql.connector.connect(\n",
    "    host = config.host,\n",
    "    user = config.user,\n",
    "    passwd = config.password,\n",
    "    database = 'employees'\n",
    ")\n",
    "cursor = cnx.cursor()\n",
    "\n",
    "tomorrow = datetime.now().date() + timedelta(days=1)\n",
    "\n",
    "add_employee = (\"INSERT INTO employees \"\n",
    "               \"(first_name, last_name, hire_date, gender, birth_date) \"\n",
    "               \"VALUES (%s, %s, %s, %s, %s)\")\n",
    "add_salary = (\"INSERT INTO salaries \"\n",
    "              \"(emp_no, salary, from_date, to_date) \"\n",
    "              \"VALUES (%(emp_no)s, %(salary)s, %(from_date)s, %(to_date)s)\")\n",
    "\n",
    "data_employee = ('Geert', 'Vanderkelen', tomorrow, 'M', date(1977, 6, 14))\n",
    "\n"
   ]
  },
  {
   "cell_type": "code",
   "execution_count": 20,
   "metadata": {},
   "outputs": [],
   "source": [
    "# Insert new employee\n",
    "cursor.execute(add_employee, data_employee)\n",
    "emp_no = cursor.lastrowid\n",
    "\n",
    "# Insert salary information\n",
    "data_salary = {\n",
    "  'emp_no': emp_no,\n",
    "  'salary': 50000,\n",
    "  'from_date': tomorrow,\n",
    "  'to_date': date(9999, 1, 1),\n",
    "}\n",
    "cursor.execute(add_salary, data_salary)\n",
    "\n",
    "# Make sure data is committed to the database\n",
    "cnx.commit()\n",
    "\n",
    "cursor.close()\n",
    "cnx.close()"
   ]
  },
  {
   "cell_type": "markdown",
   "metadata": {},
   "source": [
    "## Insert Many"
   ]
  },
  {
   "cell_type": "markdown",
   "metadata": {},
   "source": [
    "cursor.executemany(operation, seq_of_params)"
   ]
  },
  {
   "cell_type": "code",
   "execution_count": 25,
   "metadata": {},
   "outputs": [],
   "source": [
    "cnx = mysql.connector.connect(\n",
    "    host = config.host,\n",
    "    user = config.user,\n",
    "    passwd = config.password,\n",
    "    database = 'employees'\n",
    ")\n",
    "cursor = cnx.cursor()"
   ]
  },
  {
   "cell_type": "code",
   "execution_count": 26,
   "metadata": {},
   "outputs": [],
   "source": [
    "data = [\n",
    "  ('Jane', date(2005, 2, 12)),\n",
    "  ('Joe', date(2006, 5, 23)),\n",
    "  ('John', date(2010, 10, 3)),\n",
    "]\n",
    "stmt = \"INSERT INTO employees (first_name, hire_date) VALUES (%s, %s)\"\n",
    "cursor.executemany(stmt, data)"
   ]
  },
  {
   "cell_type": "markdown",
   "metadata": {},
   "source": [
    "## Quyerying the DB"
   ]
  },
  {
   "cell_type": "code",
   "execution_count": 23,
   "metadata": {},
   "outputs": [],
   "source": [
    "cnx = mysql.connector.connect(\n",
    "    host = config.host,\n",
    "    user = config.user,\n",
    "    passwd = config.password,\n",
    "    database = DB_NAME\n",
    ")\n",
    "cursor = cnx.cursor()"
   ]
  },
  {
   "cell_type": "code",
   "execution_count": 27,
   "metadata": {},
   "outputs": [],
   "source": [
    "query = \"SELECT * FROM employees; \"\n",
    "\n"
   ]
  },
  {
   "cell_type": "code",
   "execution_count": 28,
   "metadata": {},
   "outputs": [],
   "source": [
    "cursor.execute(query)"
   ]
  },
  {
   "cell_type": "code",
   "execution_count": 29,
   "metadata": {},
   "outputs": [],
   "source": [
    "result = cursor.fetchall()"
   ]
  },
  {
   "cell_type": "code",
   "execution_count": 30,
   "metadata": {},
   "outputs": [
    {
     "name": "stdout",
     "output_type": "stream",
     "text": [
      "(1, datetime.date(1977, 6, 14), 'Geert', 'Vanderkelen', 'M', datetime.date(2019, 12, 4))\n",
      "(2, None, 'Jane', '', 'M', datetime.date(2005, 2, 12))\n",
      "(3, None, 'Joe', '', 'M', datetime.date(2006, 5, 23))\n",
      "(4, None, 'John', '', 'M', datetime.date(2010, 10, 3))\n",
      "(5, datetime.date(1977, 6, 14), 'Geert', 'Vanderkelen', 'M', datetime.date(2019, 12, 4))\n",
      "(6, datetime.date(1977, 6, 14), 'Geert', 'Vanderkelen', 'M', datetime.date(2019, 12, 5))\n",
      "(10, datetime.date(1977, 6, 14), 'Geert', 'Vanderkelen', 'M', datetime.date(2019, 12, 5))\n",
      "(11, datetime.date(1977, 6, 14), 'Geert', 'Vanderkelen', 'M', datetime.date(2019, 12, 5))\n",
      "(15, None, 'Jane', '', 'M', datetime.date(2005, 2, 12))\n",
      "(16, None, 'Joe', '', 'M', datetime.date(2006, 5, 23))\n",
      "(17, None, 'John', '', 'M', datetime.date(2010, 10, 3))\n"
     ]
    }
   ],
   "source": [
    "for l in result:\n",
    "    print (l)"
   ]
  },
  {
   "cell_type": "code",
   "execution_count": 23,
   "metadata": {
    "collapsed": true
   },
   "outputs": [
    {
     "ename": "TypeError",
     "evalue": "descriptor 'date' requires a 'datetime.datetime' object but received a 'int'",
     "output_type": "error",
     "traceback": [
      "\u001b[0;31m---------------------------------------------------------------------------\u001b[0m",
      "\u001b[0;31mTypeError\u001b[0m                                 Traceback (most recent call last)",
      "\u001b[0;32m<ipython-input-23-1f19fb1c2edf>\u001b[0m in \u001b[0;36m<module>\u001b[0;34m\u001b[0m\n\u001b[1;32m      2\u001b[0m          \"WHERE hire_date BETWEEN %s AND %s\")\n\u001b[1;32m      3\u001b[0m \u001b[0;34m\u001b[0m\u001b[0m\n\u001b[0;32m----> 4\u001b[0;31m \u001b[0mhire_start\u001b[0m \u001b[0;34m=\u001b[0m \u001b[0mdatetime\u001b[0m\u001b[0;34m.\u001b[0m\u001b[0mdate\u001b[0m\u001b[0;34m(\u001b[0m\u001b[0;36m1999\u001b[0m\u001b[0;34m,\u001b[0m \u001b[0;36m1\u001b[0m\u001b[0;34m,\u001b[0m \u001b[0;36m1\u001b[0m\u001b[0;34m)\u001b[0m\u001b[0;34m\u001b[0m\u001b[0;34m\u001b[0m\u001b[0m\n\u001b[0m\u001b[1;32m      5\u001b[0m \u001b[0mhire_end\u001b[0m \u001b[0;34m=\u001b[0m \u001b[0mdatetime\u001b[0m\u001b[0;34m.\u001b[0m\u001b[0mdate\u001b[0m\u001b[0;34m(\u001b[0m\u001b[0;36m1999\u001b[0m\u001b[0;34m,\u001b[0m \u001b[0;36m12\u001b[0m\u001b[0;34m,\u001b[0m \u001b[0;36m31\u001b[0m\u001b[0;34m)\u001b[0m\u001b[0;34m\u001b[0m\u001b[0;34m\u001b[0m\u001b[0m\n\u001b[1;32m      6\u001b[0m \u001b[0;34m\u001b[0m\u001b[0m\n",
      "\u001b[0;31mTypeError\u001b[0m: descriptor 'date' requires a 'datetime.datetime' object but received a 'int'"
     ]
    }
   ],
   "source": [
    "\n",
    "query = (\"SELECT first_name, last_name, hire_date FROM employees \"\n",
    "         \"WHERE hire_date BETWEEN %s AND %s\")\n",
    "\n",
    "hire_start = datetime.date(1999, 1, 1)\n",
    "hire_end = datetime.date(1999, 12, 31)\n",
    "\n",
    "cursor.execute(query, (hire_start, hire_end))\n",
    "\n",
    "for (first_name, last_name, hire_date) in cursor:\n",
    "  print(\"{}, {} was hired on {:%d %b %Y}\".format(\n",
    "    last_name, first_name, hire_date))\n",
    "\n",
    "cursor.close()\n",
    "cnx.close()"
   ]
  },
  {
   "cell_type": "code",
   "execution_count": 31,
   "metadata": {},
   "outputs": [],
   "source": [
    "cnx = mysql.connector.connect(\n",
    "    host = config.host,\n",
    "    user = config.user,\n",
    "    passwd = config.password,\n",
    "    database = 'production'\n",
    ")\n",
    "cursor = cnx.cursor()"
   ]
  },
  {
   "cell_type": "code",
   "execution_count": 32,
   "metadata": {},
   "outputs": [],
   "source": [
    "q1 = ('''\n",
    "SELECT\n",
    "    p.product_name,\n",
    "    p.list_price,\n",
    "    p.brand_id,\n",
    "    b.brand_name\n",
    "FROM\n",
    "    production.products p\n",
    "LEFT JOIN\n",
    "    production.brands b\n",
    "ON\n",
    "    p.brand_id = b.brand_id\n",
    "''')"
   ]
  },
  {
   "cell_type": "code",
   "execution_count": 33,
   "metadata": {},
   "outputs": [
    {
     "name": "stdout",
     "output_type": "stream",
     "text": [
      "('Trek 820 - 2016', Decimal('379.99'), 9, 'Trek')\n",
      "('Ritchey Timberwolf Frameset - 2016', Decimal('749.99'), 5, 'Ritchey')\n",
      "('Surly Wednesday Frameset - 2016', Decimal('999.99'), 8, 'Surly')\n",
      "('Trek Fuel EX 8 29 - 2016', Decimal('2899.99'), 9, 'Trek')\n",
      "('Heller Shagamaw Frame - 2016', Decimal('1320.99'), 3, 'Heller')\n",
      "('Surly Ice Cream Truck Frameset - 2016', Decimal('469.99'), 8, 'Surly')\n",
      "('Trek Slash 8 27.5 - 2016', Decimal('3999.99'), 9, 'Trek')\n",
      "('Trek Remedy 29 Carbon Frameset - 2016', Decimal('1799.99'), 9, 'Trek')\n",
      "('Trek Conduit+ - 2016', Decimal('2999.99'), 9, 'Trek')\n",
      "('Surly Straggler - 2016', Decimal('1549.00'), 8, 'Surly')\n",
      "('Surly Straggler 650b - 2016', Decimal('1680.99'), 8, 'Surly')\n",
      "('Electra Townie Original 21D - 2016', Decimal('549.99'), 1, 'Electra')\n",
      "('Electra Cruiser 1 (24-Inch) - 2016', Decimal('269.99'), 1, 'Electra')\n",
      "(\"Electra Girl's Hawaii 1 (16-inch) - 2015/2016\", Decimal('269.99'), 1, 'Electra')\n",
      "('Electra Moto 1 - 2016', Decimal('529.99'), 1, 'Electra')\n",
      "('Electra Townie Original 7D EQ - 2016', Decimal('599.99'), 1, 'Electra')\n",
      "('Pure Cycles Vine 8-Speed - 2016', Decimal('429.00'), 4, 'Pure Cycles')\n",
      "(\"Pure Cycles Western 3-Speed - Women's - 2015/2016\", Decimal('449.00'), 4, 'Pure Cycles')\n",
      "('Pure Cycles William 3-Speed - 2016', Decimal('449.00'), 4, 'Pure Cycles')\n",
      "(\"Electra Townie Original 7D EQ - Women's - 2016\", Decimal('599.99'), 1, 'Electra')\n",
      "('Electra Cruiser 1 (24-Inch) - 2016', Decimal('269.99'), 1, 'Electra')\n",
      "(\"Electra Girl's Hawaii 1 (16-inch) - 2015/2016\", Decimal('269.99'), 1, 'Electra')\n",
      "(\"Electra Girl's Hawaii 1 (20-inch) - 2015/2016\", Decimal('299.99'), 1, 'Electra')\n",
      "('Electra Townie Original 21D - 2016', Decimal('549.99'), 1, 'Electra')\n",
      "('Electra Townie Original 7D - 2015/2016', Decimal('499.99'), 1, 'Electra')\n",
      "('Electra Townie Original 7D EQ - 2016', Decimal('599.99'), 1, 'Electra')\n",
      "('Surly Big Dummy Frameset - 2017', Decimal('999.99'), 8, 'Surly')\n",
      "('Surly Karate Monkey 27.5+ Frameset - 2017', Decimal('2499.99'), 8, 'Surly')\n",
      "('Trek X-Caliber 8 - 2017', Decimal('999.99'), 9, 'Trek')\n",
      "('Surly Ice Cream Truck Frameset - 2017', Decimal('999.99'), 8, 'Surly')\n",
      "('Surly Wednesday - 2017', Decimal('1632.99'), 8, 'Surly')\n",
      "('Trek Farley Alloy Frameset - 2017', Decimal('469.99'), 9, 'Trek')\n",
      "('Surly Wednesday Frameset - 2017', Decimal('469.99'), 8, 'Surly')\n",
      "('Trek Session DH 27.5 Carbon Frameset - 2017', Decimal('469.99'), 9, 'Trek')\n",
      "('Sun Bicycles Spider 3i - 2017', Decimal('832.99'), 7, 'Sun Bicycles')\n",
      "('Surly Troll Frameset - 2017', Decimal('832.99'), 8, 'Surly')\n",
      "('Haro Flightline One ST - 2017', Decimal('379.99'), 2, 'Haro')\n",
      "('Haro Flightline Two 26 Plus - 2017', Decimal('549.99'), 2, 'Haro')\n",
      "('Trek Stache 5 - 2017', Decimal('1499.99'), 9, 'Trek')\n",
      "('Trek Fuel EX 9.8 29 - 2017', Decimal('4999.99'), 9, 'Trek')\n",
      "('Haro Shift R3 - 2017', Decimal('1469.99'), 2, 'Haro')\n",
      "('Trek Fuel EX 5 27.5 Plus - 2017', Decimal('2299.99'), 9, 'Trek')\n",
      "('Trek Fuel EX 9.8 27.5 Plus - 2017', Decimal('5299.99'), 9, 'Trek')\n",
      "('Haro SR 1.1 - 2017', Decimal('539.99'), 2, 'Haro')\n",
      "('Haro SR 1.2 - 2017', Decimal('869.99'), 2, 'Haro')\n",
      "('Haro SR 1.3 - 2017', Decimal('1409.99'), 2, 'Haro')\n",
      "('Trek Remedy 9.8 - 2017', Decimal('5299.99'), 9, 'Trek')\n",
      "('Trek Emonda S 4 - 2017', Decimal('1499.99'), 9, 'Trek')\n",
      "('Trek Domane SL 6 - 2017', Decimal('3499.99'), 9, 'Trek')\n",
      "(\"Trek Silque SLR 7 Women's - 2017\", Decimal('5999.99'), 9, 'Trek')\n",
      "(\"Trek Silque SLR 8 Women's - 2017\", Decimal('6499.99'), 9, 'Trek')\n",
      "('Surly Steamroller - 2017', Decimal('875.99'), 8, 'Surly')\n",
      "('Surly Ogre Frameset - 2017', Decimal('749.99'), 8, 'Surly')\n",
      "('Trek Domane SL Disc Frameset - 2017', Decimal('3199.99'), 9, 'Trek')\n",
      "('Trek Domane S 6 - 2017', Decimal('2699.99'), 9, 'Trek')\n",
      "('Trek Domane SLR 6 Disc - 2017', Decimal('5499.99'), 9, 'Trek')\n",
      "('Trek Emonda S 5 - 2017', Decimal('1999.99'), 9, 'Trek')\n",
      "('Trek Madone 9.2 - 2017', Decimal('4999.99'), 9, 'Trek')\n",
      "('Trek Domane S 5 Disc - 2017', Decimal('2599.99'), 9, 'Trek')\n",
      "('Sun Bicycles ElectroLite - 2017', Decimal('1559.99'), 7, 'Sun Bicycles')\n",
      "('Trek Powerfly 8 FS Plus - 2017', Decimal('4999.99'), 9, 'Trek')\n",
      "('Trek Boone 7 - 2017', Decimal('3499.99'), 9, 'Trek')\n",
      "('Trek Boone Race Shop Limited - 2017', Decimal('3499.99'), 9, 'Trek')\n",
      "('Electra Townie Original 7D - 2017', Decimal('489.99'), 1, 'Electra')\n",
      "('Sun Bicycles Lil Bolt Type-R - 2017', Decimal('346.99'), 7, 'Sun Bicycles')\n",
      "('Sun Bicycles Revolutions 24 - 2017', Decimal('250.99'), 7, 'Sun Bicycles')\n",
      "(\"Sun Bicycles Revolutions 24 - Girl's - 2017\", Decimal('250.99'), 7, 'Sun Bicycles')\n",
      "('Sun Bicycles Cruz 3 - 2017', Decimal('449.99'), 7, 'Sun Bicycles')\n",
      "('Sun Bicycles Cruz 7 - 2017', Decimal('416.99'), 7, 'Sun Bicycles')\n",
      "('Electra Amsterdam Original 3i - 2015/2017', Decimal('659.99'), 1, 'Electra')\n",
      "('Sun Bicycles Atlas X-Type - 2017', Decimal('416.99'), 7, 'Sun Bicycles')\n",
      "('Sun Bicycles Biscayne Tandem 7 - 2017', Decimal('619.99'), 7, 'Sun Bicycles')\n",
      "('Sun Bicycles Brickell Tandem 7 - 2017', Decimal('749.99'), 7, 'Sun Bicycles')\n",
      "('Electra Cruiser Lux 1 - 2017', Decimal('439.99'), 1, 'Electra')\n",
      "('Electra Cruiser Lux Fat Tire 1 Ladies - 2017', Decimal('599.99'), 1, 'Electra')\n",
      "('Electra Girl\\'s Hawaii 1 16\" - 2017', Decimal('299.99'), 1, 'Electra')\n",
      "(\"Electra Glam Punk 3i Ladies' - 2017\", Decimal('799.99'), 1, 'Electra')\n",
      "('Sun Bicycles Biscayne Tandem CB - 2017', Decimal('647.99'), 7, 'Sun Bicycles')\n",
      "('Sun Bicycles Boardwalk (24-inch Wheels) - 2017', Decimal('402.99'), 7, 'Sun Bicycles')\n",
      "('Sun Bicycles Brickell Tandem CB - 2017', Decimal('761.99'), 7, 'Sun Bicycles')\n",
      "(\"Electra Amsterdam Fashion 7i Ladies' - 2017\", Decimal('1099.99'), 1, 'Electra')\n",
      "(\"Electra Amsterdam Original 3i Ladies' - 2017\", Decimal('659.99'), 1, 'Electra')\n",
      "(\"Trek Boy's Kickster - 2015/2017\", Decimal('149.99'), 9, 'Trek')\n",
      "(\"Sun Bicycles Lil Kitt'n - 2017\", Decimal('109.99'), 7, 'Sun Bicycles')\n",
      "('Haro Downtown 16 - 2017', Decimal('329.99'), 2, 'Haro')\n",
      "(\"Trek Girl's Kickster - 2017\", Decimal('149.99'), 9, 'Trek')\n",
      "('Trek Precaliber 12 Boys - 2017', Decimal('189.99'), 9, 'Trek')\n",
      "('Trek Precaliber 12 Girls - 2017', Decimal('189.99'), 9, 'Trek')\n",
      "('Trek Precaliber 16 Boys - 2017', Decimal('209.99'), 9, 'Trek')\n",
      "('Trek Precaliber 16 Girls - 2017', Decimal('209.99'), 9, 'Trek')\n",
      "('Trek Precaliber 24 (21-Speed) - Girls - 2017', Decimal('349.99'), 9, 'Trek')\n",
      "('Haro Shredder 20 - 2017', Decimal('209.99'), 2, 'Haro')\n",
      "('Haro Shredder 20 Girls - 2017', Decimal('209.99'), 2, 'Haro')\n",
      "('Haro Shredder Pro 20 - 2017', Decimal('249.99'), 2, 'Haro')\n",
      "('Electra Girl\\'s Hawaii 1 16\" - 2017', Decimal('299.99'), 1, 'Electra')\n",
      "(\"Electra Moto 3i (20-inch) - Boy's - 2017\", Decimal('349.99'), 1, 'Electra')\n",
      "(\"Electra Savannah 3i (20-inch) - Girl's - 2017\", Decimal('349.99'), 1, 'Electra')\n",
      "(\"Electra Straight 8 3i (20-inch) - Boy's - 2017\", Decimal('489.99'), 1, 'Electra')\n",
      "(\"Electra Sugar Skulls 1 (20-inch) - Girl's - 2017\", Decimal('299.99'), 1, 'Electra')\n",
      "(\"Electra Townie 3i EQ (20-inch) - Boys' - 2017\", Decimal('489.99'), 1, 'Electra')\n",
      "(\"Electra Townie 7D (20-inch) - Boys' - 2017\", Decimal('339.99'), 1, 'Electra')\n",
      "('Electra Townie Original 7D - 2017', Decimal('489.99'), 1, 'Electra')\n",
      "('Sun Bicycles Streamway 3 - 2017', Decimal('551.99'), 7, 'Sun Bicycles')\n",
      "('Sun Bicycles Streamway - 2017', Decimal('481.99'), 7, 'Sun Bicycles')\n",
      "('Sun Bicycles Streamway 7 - 2017', Decimal('533.99'), 7, 'Sun Bicycles')\n",
      "('Sun Bicycles Cruz 3 - 2017', Decimal('449.99'), 7, 'Sun Bicycles')\n",
      "('Sun Bicycles Cruz 7 - 2017', Decimal('416.99'), 7, 'Sun Bicycles')\n",
      "(\"Sun Bicycles Cruz 3 - Women's - 2017\", Decimal('449.99'), 7, 'Sun Bicycles')\n",
      "(\"Sun Bicycles Cruz 7 - Women's - 2017\", Decimal('416.99'), 7, 'Sun Bicycles')\n",
      "('Sun Bicycles Drifter 7 - 2017', Decimal('470.99'), 7, 'Sun Bicycles')\n",
      "(\"Sun Bicycles Drifter 7 - Women's - 2017\", Decimal('470.99'), 7, 'Sun Bicycles')\n",
      "('Trek 820 - 2018', Decimal('379.99'), 9, 'Trek')\n",
      "('Trek Marlin 5 - 2018', Decimal('489.99'), 9, 'Trek')\n",
      "('Trek Marlin 6 - 2018', Decimal('579.99'), 9, 'Trek')\n",
      "('Trek Fuel EX 8 29 - 2018', Decimal('3199.99'), 9, 'Trek')\n",
      "('Trek Marlin 7 - 2017/2018', Decimal('749.99'), 9, 'Trek')\n",
      "('Trek Ticket S Frame - 2018', Decimal('1469.99'), 9, 'Trek')\n",
      "('Trek X-Caliber 8 - 2018', Decimal('999.99'), 9, 'Trek')\n",
      "(\"Trek Kids' Neko - 2018\", Decimal('469.99'), 9, 'Trek')\n",
      "('Trek Fuel EX 7 29 - 2018', Decimal('2499.99'), 9, 'Trek')\n",
      "('Surly Krampus Frameset - 2018', Decimal('2499.99'), 8, 'Surly')\n",
      "('Surly Troll Frameset - 2018', Decimal('2499.99'), 8, 'Surly')\n",
      "('Trek Farley Carbon Frameset - 2018', Decimal('999.99'), 9, 'Trek')\n",
      "('Surly Krampus - 2018', Decimal('1499.00'), 8, 'Surly')\n",
      "(\"Trek Kids' Dual Sport - 2018\", Decimal('469.99'), 9, 'Trek')\n",
      "('Surly Big Fat Dummy Frameset - 2018', Decimal('469.99'), 8, 'Surly')\n",
      "('Surly Pack Rat Frameset - 2018', Decimal('469.99'), 8, 'Surly')\n",
      "('Surly ECR 27.5 - 2018', Decimal('1899.00'), 8, 'Surly')\n",
      "('Trek X-Caliber 7 - 2018', Decimal('919.99'), 9, 'Trek')\n",
      "('Trek Stache Carbon Frameset - 2018', Decimal('919.99'), 9, 'Trek')\n",
      "('Heller Bloodhound Trail - 2018', Decimal('2599.00'), 3, 'Heller')\n",
      "('Trek Procal AL Frameset - 2018', Decimal('1499.99'), 9, 'Trek')\n",
      "('Trek Procaliber Frameset - 2018', Decimal('1499.99'), 9, 'Trek')\n",
      "('Trek Remedy 27.5 C Frameset - 2018', Decimal('1499.99'), 9, 'Trek')\n",
      "('Trek X-Caliber Frameset - 2018', Decimal('1499.99'), 9, 'Trek')\n",
      "('Trek Procaliber 6 - 2018', Decimal('1799.99'), 9, 'Trek')\n",
      "('Heller Shagamaw GX1 - 2018', Decimal('2599.00'), 3, 'Heller')\n",
      "('Trek Fuel EX 5 Plus - 2018', Decimal('2249.99'), 9, 'Trek')\n",
      "('Trek Remedy 7 27.5 - 2018', Decimal('2999.99'), 9, 'Trek')\n",
      "('Trek Remedy 9.8 27.5 - 2018', Decimal('4999.99'), 9, 'Trek')\n",
      "('Trek Stache 5 - 2018', Decimal('1599.99'), 9, 'Trek')\n",
      "('Trek Fuel EX 8 29 XT - 2018', Decimal('3199.99'), 9, 'Trek')\n",
      "('Trek Domane ALR 3 - 2018', Decimal('1099.99'), 9, 'Trek')\n",
      "('Trek Domane ALR 4 Disc - 2018', Decimal('1549.99'), 9, 'Trek')\n",
      "('Trek Domane ALR 5 Disc - 2018', Decimal('1799.99'), 9, 'Trek')\n",
      "('Trek Domane SLR 6 - 2018', Decimal('4999.99'), 9, 'Trek')\n",
      "('Trek Domane ALR 5 Gravel - 2018', Decimal('1799.99'), 9, 'Trek')\n",
      "('Trek Domane SL 8 Disc - 2018', Decimal('5499.99'), 9, 'Trek')\n",
      "('Trek Domane SLR 8 Disc - 2018', Decimal('7499.99'), 9, 'Trek')\n",
      "('Trek Emonda SL 7 - 2018', Decimal('4499.99'), 9, 'Trek')\n",
      "(\"Trek Domane ALR 4 Disc Women's - 2018\", Decimal('1549.99'), 9, 'Trek')\n",
      "(\"Trek Domane SL 5 Disc Women's - 2018\", Decimal('2499.99'), 9, 'Trek')\n",
      "(\"Trek Domane SL 7 Women's - 2018\", Decimal('4999.99'), 9, 'Trek')\n",
      "(\"Trek Domane SLR 6 Disc Women's - 2018\", Decimal('5499.99'), 9, 'Trek')\n",
      "('Trek Domane SLR 9 Disc - 2018', Decimal('11999.99'), 9, 'Trek')\n",
      "('Trek Domane SL Frameset - 2018', Decimal('6499.99'), 9, 'Trek')\n",
      "(\"Trek Domane SL Frameset Women's - 2018\", Decimal('6499.99'), 9, 'Trek')\n",
      "('Trek CrossRip 1 - 2018', Decimal('959.99'), 9, 'Trek')\n",
      "('Trek Emonda ALR 6 - 2018', Decimal('2299.99'), 9, 'Trek')\n",
      "('Trek Emonda SLR 6 - 2018', Decimal('4499.99'), 9, 'Trek')\n",
      "('Surly ECR - 2018', Decimal('1899.00'), 8, 'Surly')\n",
      "('Trek Emonda SL 6 Disc - 2018', Decimal('2999.99'), 9, 'Trek')\n",
      "('Surly Pack Rat - 2018', Decimal('1349.00'), 8, 'Surly')\n",
      "('Surly Straggler 650b - 2018', Decimal('1549.00'), 8, 'Surly')\n",
      "('Trek 1120 - 2018', Decimal('2499.99'), 9, 'Trek')\n",
      "(\"Trek Domane AL 2 Women's - 2018\", Decimal('749.99'), 9, 'Trek')\n",
      "('Surly ECR Frameset - 2018', Decimal('749.99'), 8, 'Surly')\n",
      "('Surly Straggler - 2018', Decimal('1549.00'), 8, 'Surly')\n",
      "('Trek Emonda SLR 8 - 2018', Decimal('6499.99'), 9, 'Trek')\n",
      "('Trek CrossRip 2 - 2018', Decimal('1299.99'), 9, 'Trek')\n",
      "('Trek Domane SL 6 - 2018', Decimal('3199.99'), 9, 'Trek')\n",
      "('Trek Domane ALR Disc Frameset - 2018', Decimal('3199.99'), 9, 'Trek')\n",
      "('Trek Domane ALR Frameset - 2018', Decimal('3199.99'), 9, 'Trek')\n",
      "('Trek Domane SLR Disc Frameset - 2018', Decimal('3199.99'), 9, 'Trek')\n",
      "('Trek Domane SLR Frameset - 2018', Decimal('3199.99'), 9, 'Trek')\n",
      "('Trek Madone 9 Frameset - 2018', Decimal('3199.99'), 9, 'Trek')\n",
      "('Trek Domane SLR 6 Disc - 2018', Decimal('5499.99'), 9, 'Trek')\n",
      "('Trek Domane AL 2 - 2018', Decimal('749.99'), 9, 'Trek')\n",
      "('Trek Domane AL 3 - 2018', Decimal('919.99'), 9, 'Trek')\n",
      "(\"Trek Domane AL 3 Women's - 2018\", Decimal('919.99'), 9, 'Trek')\n",
      "('Trek Domane SL 5 - 2018', Decimal('2199.99'), 9, 'Trek')\n",
      "('Trek Domane SL 5 Disc - 2018', Decimal('2499.99'), 9, 'Trek')\n",
      "(\"Trek Domane SL 5 Women's - 2018\", Decimal('2199.99'), 9, 'Trek')\n",
      "('Trek Domane SL 6 Disc - 2018', Decimal('3499.99'), 9, 'Trek')\n",
      "('Trek Conduit+ - 2018', Decimal('2799.99'), 9, 'Trek')\n",
      "('Trek CrossRip+ - 2018', Decimal('4499.99'), 9, 'Trek')\n",
      "('Trek Neko+ - 2018', Decimal('2799.99'), 9, 'Trek')\n",
      "('Trek XM700+ Lowstep - 2018', Decimal('3499.99'), 9, 'Trek')\n",
      "('Trek Lift+ Lowstep - 2018', Decimal('2799.99'), 9, 'Trek')\n",
      "('Trek Dual Sport+ - 2018', Decimal('2799.99'), 9, 'Trek')\n",
      "('Electra Loft Go! 8i - 2018', Decimal('2799.99'), 1, 'Electra')\n",
      "('Electra Townie Go! 8i - 2017/2018', Decimal('2599.99'), 1, 'Electra')\n",
      "('Trek Lift+ - 2018', Decimal('2799.99'), 9, 'Trek')\n",
      "('Trek XM700+ - 2018', Decimal('3499.99'), 9, 'Trek')\n",
      "(\"Electra Townie Go! 8i Ladies' - 2018\", Decimal('2599.99'), 1, 'Electra')\n",
      "('Trek Verve+ - 2018', Decimal('2299.99'), 9, 'Trek')\n",
      "('Trek Verve+ Lowstep - 2018', Decimal('2299.99'), 9, 'Trek')\n",
      "('Electra Townie Commute Go! - 2018', Decimal('2999.99'), 1, 'Electra')\n",
      "(\"Electra Townie Commute Go! Ladies' - 2018\", Decimal('2999.99'), 1, 'Electra')\n",
      "('Trek Powerfly 5 - 2018', Decimal('3499.99'), 9, 'Trek')\n",
      "('Trek Powerfly 5 FS - 2018', Decimal('4499.99'), 9, 'Trek')\n",
      "(\"Trek Powerfly 5 Women's - 2018\", Decimal('3499.99'), 9, 'Trek')\n",
      "('Trek Powerfly 7 FS - 2018', Decimal('4999.99'), 9, 'Trek')\n",
      "('Trek Super Commuter+ 7 - 2018', Decimal('3599.99'), 9, 'Trek')\n",
      "('Trek Super Commuter+ 8S - 2018', Decimal('4999.99'), 9, 'Trek')\n",
      "('Trek Boone 5 Disc - 2018', Decimal('3299.99'), 9, 'Trek')\n",
      "('Trek Boone 7 Disc - 2018', Decimal('3999.99'), 9, 'Trek')\n",
      "('Trek Crockett 5 Disc - 2018', Decimal('1799.99'), 9, 'Trek')\n",
      "('Trek Crockett 7 Disc - 2018', Decimal('2999.99'), 9, 'Trek')\n",
      "('Surly Straggler - 2018', Decimal('1549.00'), 8, 'Surly')\n",
      "('Surly Straggler 650b - 2018', Decimal('1549.00'), 8, 'Surly')\n",
      "('Electra Townie Original 21D - 2018', Decimal('559.99'), 1, 'Electra')\n",
      "('Electra Cruiser 1 - 2016/2017/2018', Decimal('269.99'), 1, 'Electra')\n",
      "('Electra Tiger Shark 3i - 2018', Decimal('899.99'), 1, 'Electra')\n",
      "('Electra Queen of Hearts 3i - 2018', Decimal('749.99'), 1, 'Electra')\n",
      "('Electra Super Moto 8i - 2018', Decimal('899.99'), 1, 'Electra')\n",
      "('Electra Straight 8 3i - 2018', Decimal('909.99'), 1, 'Electra')\n",
      "('Electra Cruiser 7D - 2016/2017/2018', Decimal('319.99'), 1, 'Electra')\n",
      "('Electra Moto 3i - 2018', Decimal('639.99'), 1, 'Electra')\n",
      "(\"Electra Cruiser 1 Ladies' - 2018\", Decimal('269.99'), 1, 'Electra')\n",
      "(\"Electra Cruiser 7D Ladies' - 2016/2018\", Decimal('319.99'), 1, 'Electra')\n",
      "('Electra Cruiser 1 Tall - 2016/2018', Decimal('269.99'), 1, 'Electra')\n",
      "('Electra Cruiser Lux 3i - 2018', Decimal('529.99'), 1, 'Electra')\n",
      "('Electra Cruiser Lux 7D - 2018', Decimal('479.99'), 1, 'Electra')\n",
      "('Electra Delivery 3i - 2016/2017/2018', Decimal('959.99'), 1, 'Electra')\n",
      "('Electra Townie Original 21D EQ - 2017/2018', Decimal('679.99'), 1, 'Electra')\n",
      "(\"Electra Cruiser 7D (24-Inch) Ladies' - 2016/2018\", Decimal('319.99'), 1, 'Electra')\n",
      "('Electra Cruiser 7D Tall - 2016/2018', Decimal('319.99'), 1, 'Electra')\n",
      "('Electra Cruiser Lux 1 - 2016/2018', Decimal('429.99'), 1, 'Electra')\n",
      "(\"Electra Cruiser Lux 1 Ladies' - 2018\", Decimal('429.99'), 1, 'Electra')\n",
      "(\"Electra Cruiser Lux 3i Ladies' - 2018\", Decimal('529.99'), 1, 'Electra')\n",
      "(\"Electra Cruiser Lux 7D Ladies' - 2018\", Decimal('479.99'), 1, 'Electra')\n",
      "('Electra Cruiser Lux Fat Tire 7D - 2018', Decimal('639.99'), 1, 'Electra')\n",
      "(\"Electra Daydreamer 3i Ladies' - 2018\", Decimal('899.99'), 1, 'Electra')\n",
      "(\"Electra Koa 3i Ladies' - 2018\", Decimal('899.99'), 1, 'Electra')\n",
      "(\"Electra Morningstar 3i Ladies' - 2018\", Decimal('749.99'), 1, 'Electra')\n",
      "('Electra Relic 3i - 2018', Decimal('849.99'), 1, 'Electra')\n",
      "('Electra Townie Balloon 8D EQ - 2016/2017/2018', Decimal('749.99'), 1, 'Electra')\n",
      "(\"Electra Townie Balloon 8D EQ Ladies' - 2016/2017/2018\", Decimal('749.99'), 1, 'Electra')\n",
      "('Electra Townie Commute 27D Ladies - 2018', Decimal('899.99'), 1, 'Electra')\n",
      "('Electra Townie Commute 8D - 2018', Decimal('749.99'), 1, 'Electra')\n",
      "(\"Electra Townie Commute 8D Ladies' - 2018\", Decimal('699.99'), 1, 'Electra')\n",
      "(\"Electra Townie Original 21D EQ Ladies' - 2018\", Decimal('679.99'), 1, 'Electra')\n",
      "(\"Electra Townie Original 21D Ladies' - 2018\", Decimal('559.99'), 1, 'Electra')\n",
      "('Electra Townie Original 3i EQ - 2017/2018', Decimal('659.99'), 1, 'Electra')\n",
      "(\"Electra Townie Original 3i EQ Ladies' - 2018\", Decimal('639.99'), 1, 'Electra')\n",
      "('Electra Townie Original 7D EQ - 2018', Decimal('599.99'), 1, 'Electra')\n",
      "(\"Electra Townie Original 7D EQ Ladies' - 2017/2018\", Decimal('599.99'), 1, 'Electra')\n",
      "('Electra White Water 3i - 2018', Decimal('749.99'), 1, 'Electra')\n",
      "('Electra Townie Go! 8i - 2017/2018', Decimal('2599.99'), 1, 'Electra')\n",
      "('Electra Townie Commute Go! - 2018', Decimal('2999.99'), 1, 'Electra')\n",
      "(\"Electra Townie Commute Go! Ladies' - 2018\", Decimal('2999.99'), 1, 'Electra')\n",
      "(\"Electra Townie Go! 8i Ladies' - 2018\", Decimal('2599.99'), 1, 'Electra')\n",
      "('Electra Townie Balloon 3i EQ - 2017/2018', Decimal('749.99'), 1, 'Electra')\n",
      "(\"Electra Townie Balloon 7i EQ Ladies' - 2017/2018\", Decimal('899.99'), 1, 'Electra')\n",
      "('Electra Townie Commute 27D - 2018', Decimal('899.99'), 1, 'Electra')\n",
      "(\"Electra Amsterdam Fashion 3i Ladies' - 2017/2018\", Decimal('899.99'), 1, 'Electra')\n",
      "('Electra Amsterdam Royal 8i - 2017/2018', Decimal('1259.90'), 1, 'Electra')\n",
      "('Electra Amsterdam Royal 8i Ladies - 2018', Decimal('1199.99'), 1, 'Electra')\n",
      "(\"Electra Townie Balloon 3i EQ Ladies' - 2018\", Decimal('799.99'), 1, 'Electra')\n",
      "('Electra Townie Balloon 7i EQ - 2018', Decimal('899.99'), 1, 'Electra')\n",
      "('Trek MT 201 - 2018', Decimal('249.99'), 9, 'Trek')\n",
      "('Strider Classic 12 Balance Bike - 2018', Decimal('89.99'), 6, 'Strider')\n",
      "('Strider Sport 16 - 2018', Decimal('249.99'), 6, 'Strider')\n",
      "('Strider Strider 20 Sport - 2018', Decimal('289.99'), 6, 'Strider')\n",
      "('Trek Superfly 20 - 2018', Decimal('399.99'), 9, 'Trek')\n",
      "(\"Trek Precaliber 12 Girl's - 2018\", Decimal('199.99'), 9, 'Trek')\n",
      "('Trek Kickster - 2018', Decimal('159.99'), 9, 'Trek')\n",
      "(\"Trek Precaliber 12 Boy's - 2018\", Decimal('199.99'), 9, 'Trek')\n",
      "(\"Trek Precaliber 16 Boy's - 2018\", Decimal('209.99'), 9, 'Trek')\n",
      "(\"Trek Precaliber 16 Girl's - 2018\", Decimal('209.99'), 9, 'Trek')\n",
      "(\"Trek Precaliber 20 6-speed Boy's - 2018\", Decimal('289.99'), 9, 'Trek')\n",
      "(\"Trek Precaliber 20 6-speed Girl's - 2018\", Decimal('289.99'), 9, 'Trek')\n",
      "(\"Trek Precaliber 20 Boy's - 2018\", Decimal('229.99'), 9, 'Trek')\n",
      "(\"Trek Precaliber 20 Girl's - 2018\", Decimal('229.99'), 9, 'Trek')\n",
      "('Trek Precaliber 24 (7-Speed) - Boys - 2018', Decimal('319.99'), 9, 'Trek')\n",
      "(\"Trek Precaliber 24 21-speed Boy's - 2018\", Decimal('369.99'), 9, 'Trek')\n",
      "(\"Trek Precaliber 24 21-speed Girl's - 2018\", Decimal('369.99'), 9, 'Trek')\n",
      "(\"Trek Precaliber 24 7-speed Girl's - 2018\", Decimal('319.99'), 9, 'Trek')\n",
      "('Trek Superfly 24 - 2017/2018', Decimal('489.99'), 9, 'Trek')\n",
      "(\"Electra Cruiser 7D (24-Inch) Ladies' - 2016/2018\", Decimal('319.99'), 1, 'Electra')\n",
      "(\"Electra Cyclosaurus 1 (16-inch) - Boy's - 2018\", Decimal('279.99'), 1, 'Electra')\n",
      "(\"Electra Heartchya 1 (20-inch) - Girl's - 2018\", Decimal('319.99'), 1, 'Electra')\n",
      "(\"Electra Savannah 1 (20-inch) - Girl's - 2018\", Decimal('319.99'), 1, 'Electra')\n",
      "(\"Electra Soft Serve 1 (16-inch) - Girl's - 2018\", Decimal('279.99'), 1, 'Electra')\n",
      "('Electra Starship 1 16\" - 2018', Decimal('279.99'), 1, 'Electra')\n",
      "(\"Electra Straight 8 1 (16-inch) - Boy's - 2018\", Decimal('279.99'), 1, 'Electra')\n",
      "(\"Electra Straight 8 1 (20-inch) - Boy's - 2018\", Decimal('389.99'), 1, 'Electra')\n",
      "('Electra Superbolt 1 20\" - 2018', Decimal('319.99'), 1, 'Electra')\n",
      "('Electra Superbolt 3i 20\" - 2018', Decimal('369.99'), 1, 'Electra')\n",
      "(\"Electra Sweet Ride 1 (20-inch) - Girl's - 2018\", Decimal('319.99'), 1, 'Electra')\n",
      "(\"Electra Sweet Ride 3i (20-inch) - Girls' - 2018\", Decimal('369.99'), 1, 'Electra')\n",
      "(\"Electra Tiger Shark 1 (20-inch) - Boys' - 2018\", Decimal('319.99'), 1, 'Electra')\n",
      "(\"Electra Tiger Shark 3i (20-inch) - Boys' - 2018\", Decimal('369.99'), 1, 'Electra')\n",
      "('Electra Treasure 1 20\" - 2018', Decimal('319.99'), 1, 'Electra')\n",
      "('Electra Treasure 3i 20\" - 2018', Decimal('369.99'), 1, 'Electra')\n",
      "('Electra Under-The-Sea 1 16\" - 2018', Decimal('279.99'), 1, 'Electra')\n",
      "(\"Electra Water Lily 1 (16-inch) - Girl's - 2018\", Decimal('279.99'), 1, 'Electra')\n",
      "('Electra Townie Original 21D - 2018', Decimal('559.99'), 1, 'Electra')\n",
      "(\"Electra Townie Balloon 3i EQ Ladies' - 2018\", Decimal('799.99'), 1, 'Electra')\n",
      "('Electra Townie Balloon 7i EQ - 2018', Decimal('899.99'), 1, 'Electra')\n",
      "('Electra Townie Original 1 - 2018', Decimal('449.99'), 1, 'Electra')\n",
      "('Electra Townie Go! 8i - 2017/2018', Decimal('2599.99'), 1, 'Electra')\n",
      "('Electra Townie Original 21D EQ - 2017/2018', Decimal('679.99'), 1, 'Electra')\n",
      "('Electra Townie Balloon 3i EQ - 2017/2018', Decimal('749.99'), 1, 'Electra')\n",
      "(\"Electra Townie Balloon 7i EQ Ladies' - 2017/2018\", Decimal('899.99'), 1, 'Electra')\n",
      "('Electra Townie Balloon 8D EQ - 2016/2017/2018', Decimal('749.99'), 1, 'Electra')\n",
      "(\"Electra Townie Balloon 8D EQ Ladies' - 2016/2017/2018\", Decimal('749.99'), 1, 'Electra')\n",
      "('Electra Townie Commute 27D - 2018', Decimal('899.99'), 1, 'Electra')\n",
      "('Electra Townie Commute 27D Ladies - 2018', Decimal('899.99'), 1, 'Electra')\n",
      "('Electra Townie Commute 8D - 2018', Decimal('749.99'), 1, 'Electra')\n",
      "(\"Electra Townie Commute 8D Ladies' - 2018\", Decimal('699.99'), 1, 'Electra')\n",
      "(\"Electra Townie Original 1 Ladies' - 2018\", Decimal('449.99'), 1, 'Electra')\n",
      "(\"Electra Townie Original 21D EQ Ladies' - 2018\", Decimal('679.99'), 1, 'Electra')\n",
      "(\"Electra Townie Original 21D Ladies' - 2018\", Decimal('559.99'), 1, 'Electra')\n",
      "(\"Trek Checkpoint ALR 4 Women's - 2019\", Decimal('1699.99'), 9, 'Trek')\n",
      "('Trek Checkpoint ALR 5 - 2019', Decimal('1999.99'), 9, 'Trek')\n",
      "(\"Trek Checkpoint ALR 5 Women's - 2019\", Decimal('1999.99'), 9, 'Trek')\n",
      "(\"Trek Checkpoint SL 5 Women's - 2019\", Decimal('2799.99'), 9, 'Trek')\n",
      "('Trek Checkpoint SL 6 - 2019', Decimal('3799.99'), 9, 'Trek')\n",
      "('Trek Checkpoint ALR Frameset - 2019', Decimal('3199.99'), 9, 'Trek')\n"
     ]
    }
   ],
   "source": [
    "cursor.execute(q1)\n",
    "\n",
    "r1 = cursor.fetchall()\n",
    "\n",
    "for i in r1:\n",
    "    print(i)"
   ]
  },
  {
   "cell_type": "code",
   "execution_count": 34,
   "metadata": {},
   "outputs": [
    {
     "data": {
      "text/plain": [
       "list"
      ]
     },
     "execution_count": 34,
     "metadata": {},
     "output_type": "execute_result"
    }
   ],
   "source": [
    "type(r1)"
   ]
  },
  {
   "cell_type": "code",
   "execution_count": 35,
   "metadata": {},
   "outputs": [
    {
     "data": {
      "text/plain": [
       "321"
      ]
     },
     "execution_count": 35,
     "metadata": {},
     "output_type": "execute_result"
    }
   ],
   "source": [
    "len(r1)"
   ]
  },
  {
   "cell_type": "code",
   "execution_count": 36,
   "metadata": {},
   "outputs": [
    {
     "data": {
      "text/html": [
       "<div>\n",
       "<style scoped>\n",
       "    .dataframe tbody tr th:only-of-type {\n",
       "        vertical-align: middle;\n",
       "    }\n",
       "\n",
       "    .dataframe tbody tr th {\n",
       "        vertical-align: top;\n",
       "    }\n",
       "\n",
       "    .dataframe thead th {\n",
       "        text-align: right;\n",
       "    }\n",
       "</style>\n",
       "<table border=\"1\" class=\"dataframe\">\n",
       "  <thead>\n",
       "    <tr style=\"text-align: right;\">\n",
       "      <th></th>\n",
       "      <th>product_name</th>\n",
       "      <th>list_price</th>\n",
       "      <th>brand_id</th>\n",
       "      <th>brand_name</th>\n",
       "    </tr>\n",
       "  </thead>\n",
       "  <tbody>\n",
       "    <tr>\n",
       "      <td>0</td>\n",
       "      <td>Trek 820 - 2016</td>\n",
       "      <td>379.99</td>\n",
       "      <td>9</td>\n",
       "      <td>Trek</td>\n",
       "    </tr>\n",
       "    <tr>\n",
       "      <td>1</td>\n",
       "      <td>Ritchey Timberwolf Frameset - 2016</td>\n",
       "      <td>749.99</td>\n",
       "      <td>5</td>\n",
       "      <td>Ritchey</td>\n",
       "    </tr>\n",
       "  </tbody>\n",
       "</table>\n",
       "</div>"
      ],
      "text/plain": [
       "                         product_name list_price  brand_id brand_name\n",
       "0                     Trek 820 - 2016     379.99         9       Trek\n",
       "1  Ritchey Timberwolf Frameset - 2016     749.99         5    Ritchey"
      ]
     },
     "execution_count": 36,
     "metadata": {},
     "output_type": "execute_result"
    }
   ],
   "source": [
    "df = pd.DataFrame(r1) \n",
    "df.columns = [x[0] for x in cursor.description]\n",
    "df.head(2)"
   ]
  },
  {
   "cell_type": "code",
   "execution_count": 37,
   "metadata": {},
   "outputs": [
    {
     "data": {
      "text/plain": [
       "<seaborn.axisgrid.FacetGrid at 0x1a1bfb4b90>"
      ]
     },
     "execution_count": 37,
     "metadata": {},
     "output_type": "execute_result"
    },
    {
     "data": {
      "text/plain": [
       "<Figure size 720x720 with 0 Axes>"
      ]
     },
     "metadata": {},
     "output_type": "display_data"
    },
    {
     "data": {
      "image/png": "[encoded data removed]",
      "text/plain": [
       "<Figure size 360x360 with 1 Axes>"
      ]
     },
     "metadata": {
      "needs_background": "light"
     },
     "output_type": "display_data"
    }
   ],
   "source": [
    "plt.figure(figsize=(10,10))\n",
    "g = sns.catplot(x='brand_name', y='list_price', data=df)\n",
    "g.set_xticklabels(rotation=45)"
   ]
  },
  {
   "cell_type": "code",
   "execution_count": 38,
   "metadata": {},
   "outputs": [],
   "source": [
    "q2 = '''\n",
    "SELECT\n",
    "    p.model_year\n",
    "FROM\n",
    "    production.products p\n",
    "    ;\n",
    "'''"
   ]
  },
  {
   "cell_type": "code",
   "execution_count": 47,
   "metadata": {},
   "outputs": [],
   "source": [
    "df2 = make_df(q2)"
   ]
  },
  {
   "cell_type": "code",
   "execution_count": 48,
   "metadata": {},
   "outputs": [
    {
     "data": {
      "text/html": [
       "<div>\n",
       "<style scoped>\n",
       "    .dataframe tbody tr th:only-of-type {\n",
       "        vertical-align: middle;\n",
       "    }\n",
       "\n",
       "    .dataframe tbody tr th {\n",
       "        vertical-align: top;\n",
       "    }\n",
       "\n",
       "    .dataframe thead th {\n",
       "        text-align: right;\n",
       "    }\n",
       "</style>\n",
       "<table border=\"1\" class=\"dataframe\">\n",
       "  <thead>\n",
       "    <tr style=\"text-align: right;\">\n",
       "      <th></th>\n",
       "      <th>model_year</th>\n",
       "    </tr>\n",
       "  </thead>\n",
       "  <tbody>\n",
       "    <tr>\n",
       "      <td>0</td>\n",
       "      <td>2016</td>\n",
       "    </tr>\n",
       "    <tr>\n",
       "      <td>1</td>\n",
       "      <td>2016</td>\n",
       "    </tr>\n",
       "    <tr>\n",
       "      <td>2</td>\n",
       "      <td>2016</td>\n",
       "    </tr>\n",
       "    <tr>\n",
       "      <td>3</td>\n",
       "      <td>2016</td>\n",
       "    </tr>\n",
       "    <tr>\n",
       "      <td>4</td>\n",
       "      <td>2016</td>\n",
       "    </tr>\n",
       "    <tr>\n",
       "      <td>...</td>\n",
       "      <td>...</td>\n",
       "    </tr>\n",
       "    <tr>\n",
       "      <td>316</td>\n",
       "      <td>2019</td>\n",
       "    </tr>\n",
       "    <tr>\n",
       "      <td>317</td>\n",
       "      <td>2019</td>\n",
       "    </tr>\n",
       "    <tr>\n",
       "      <td>318</td>\n",
       "      <td>2019</td>\n",
       "    </tr>\n",
       "    <tr>\n",
       "      <td>319</td>\n",
       "      <td>2019</td>\n",
       "    </tr>\n",
       "    <tr>\n",
       "      <td>320</td>\n",
       "      <td>2019</td>\n",
       "    </tr>\n",
       "  </tbody>\n",
       "</table>\n",
       "<p>321 rows × 1 columns</p>\n",
       "</div>"
      ],
      "text/plain": [
       "     model_year\n",
       "0          2016\n",
       "1          2016\n",
       "2          2016\n",
       "3          2016\n",
       "4          2016\n",
       "..          ...\n",
       "316        2019\n",
       "317        2019\n",
       "318        2019\n",
       "319        2019\n",
       "320        2019\n",
       "\n",
       "[321 rows x 1 columns]"
      ]
     },
     "execution_count": 48,
     "metadata": {},
     "output_type": "execute_result"
    }
   ],
   "source": [
    "df2"
   ]
  },
  {
   "cell_type": "code",
   "execution_count": null,
   "metadata": {},
   "outputs": [],
   "source": []
  }
 ],
 "metadata": {
  "kernelspec": {
   "display_name": "Python 3",
   "language": "python",
   "name": "python3"
  },
  "language_info": {
   "codemirror_mode": {
    "name": "ipython",
    "version": 3
   },
   "file_extension": ".py",
   "mimetype": "text/x-python",
   "name": "python",
   "nbconvert_exporter": "python",
   "pygments_lexer": "ipython3",
   "version": "3.7.4"
  }
 },
 "nbformat": 4,
 "nbformat_minor": 2
}
